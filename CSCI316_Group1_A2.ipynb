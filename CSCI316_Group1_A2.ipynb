{
 "cells": [
  {
   "cell_type": "markdown",
   "id": "6237d4a1",
   "metadata": {},
   "source": [
    "## CSCI316 Group Assignment 2"
   ]
  },
  {
   "cell_type": "markdown",
   "id": "c7330e8c",
   "metadata": {},
   "source": [

   ]
  },
  {
   "cell_type": "markdown",
   "id": "b5c94db5",
   "metadata": {},
   "source": [
    "### **Importing Libraries and Dataset**"
   ]
  },
  {
   "cell_type": "code",
   "execution_count": 1,
   "id": "d1469211",
   "metadata": {},
   "outputs": [],
   "source": [
    "import numpy as np\n",
    "import pandas as pd\n",
    "import matplotlib.pyplot as plt\n",
    "from scipy import stats\n",
    "from scipy.stats import skew"
   ]
  },
  {
   "cell_type": "code",
   "execution_count": 2,
   "id": "c0054245",
   "metadata": {},
   "outputs": [
    {
     "name": "stderr",
     "output_type": "stream",
     "text": [
      "Warning: Ignoring non-Spark config property: spark-master\n",
      "23/08/19 21:54:42 WARN Utils: Your hostname, angels-MacBook-Pro.local resolves to a loopback address: 127.0.0.1; using 192.168.1.100 instead (on interface en0)\n",
      "23/08/19 21:54:42 WARN Utils: Set SPARK_LOCAL_IP if you need to bind to another address\n",
      "23/08/19 21:54:42 WARN NativeCodeLoader: Unable to load native-hadoop library for your platform... using builtin-java classes where applicable\n",
      "Using Spark's default log4j profile: org/apache/spark/log4j-defaults.properties\n",
      "Setting default log level to \"WARN\".\n",
      "To adjust logging level use sc.setLogLevel(newLevel). For SparkR, use setLogLevel(newLevel).\n"
     ]
    }
   ],
   "source": [
    "import findspark\n",
    "findspark.init()\n",
    "import pyspark\n",
    "from pyspark.sql import SparkSession\n",
    "spark = SparkSession.builder.appName('CSCI316_Group1_A2')\\\n",
    ".config('spark-master', 'local')\\\n",
    ".getOrCreate()\n",
    "from pyspark.sql.functions import col, lit"
   ]
  },
  {
   "cell_type": "code",
   "execution_count": 3,
   "id": "eb7ff5e3",
   "metadata": {},
   "outputs": [],
   "source": [
    "import seaborn as sns\n",
    "from pyspark import SparkContext, SparkConf\n",
    "from pyspark.ml import Pipeline\n",
    "from pyspark.ml.linalg import DenseMatrix, Vectors\n",
    "from pyspark.ml.stat import Correlation\n",
    "from pyspark.mllib.stat import Statistics\n",
    "from typing import List, Tuple, Dict\n",
    "from pyspark.sql import Row, DataFrame\n",
    "from pyspark.ml.classification import LogisticRegression, RandomForestClassifier, DecisionTreeClassifier\n",
    "from pyspark.ml.feature import VectorAssembler, StringIndexer, StandardScaler\n",
    "from pyspark.ml.evaluation import BinaryClassificationEvaluator, RegressionEvaluator, MulticlassClassificationEvaluator\n",
    "from pyspark.ml.tuning import ParamGridBuilder, CrossValidator\n",
    "from pyspark.ml.regression import RandomForestRegressor\n",
    "from sklearn.metrics import confusion_matrix"
   ]
  },
  {
   "cell_type": "code",
   "execution_count": 4,
   "id": "1e06a136",
   "metadata": {},
   "outputs": [
    {
     "name": "stderr",
     "output_type": "stream",
     "text": [
      "23/08/19 21:54:51 WARN package: Truncated the string representation of a plan since it was too large. This behavior can be adjusted by setting 'spark.sql.debug.maxToStringFields'.\n"
     ]
    },
    {
     "name": "stdout",
     "output_type": "stream",
     "text": [
      "+---+------+-----+-------+-----+-----+-----+------+------+-----------+----+----+------------+-----+-----+-----+------+------+----+----+----+-----+-----+----+------+------+------+-----+-----+-----------+-----------------+----------+------------+----------+----------------+----------------+--------------+------------+----------+----------------+----------+----------+---------------+----------+-----+\n",
      "| id|   dur|proto|service|state|spkts|dpkts|sbytes|dbytes|       rate|sttl|dttl|       sload|dload|sloss|dloss|sinpkt|dinpkt|sjit|djit|swin|stcpb|dtcpb|dwin|tcprtt|synack|ackdat|smean|dmean|trans_depth|response_body_len|ct_srv_src|ct_state_ttl|ct_dst_ltm|ct_src_dport_ltm|ct_dst_sport_ltm|ct_dst_src_ltm|is_ftp_login|ct_ftp_cmd|ct_flw_http_mthd|ct_src_ltm|ct_srv_dst|is_sm_ips_ports|attack_cat|label|\n",
      "+---+------+-----+-------+-----+-----+-----+------+------+-----------+----+----+------------+-----+-----+-----+------+------+----+----+----+-----+-----+----+------+------+------+-----+-----+-----------+-----------------+----------+------------+----------+----------------+----------------+--------------+------------+----------+----------------+----------+----------+---------------+----------+-----+\n",
      "|  1|1.1E-5|  udp|      -|  INT|    2|    0|   496|     0| 90909.0902| 254|   0|1.80363632E8|  0.0|    0|    0| 0.011|   0.0| 0.0| 0.0|   0|    0|    0|   0|   0.0|   0.0|   0.0|  248|    0|          0|                0|         2|           2|         1|               1|               1|             2|           0|         0|               0|         1|         2|              0|    Normal|    0|\n",
      "|  2|8.0E-6|  udp|      -|  INT|    2|    0|  1762|     0|125000.0003| 254|   0|      8.81E8|  0.0|    0|    0| 0.008|   0.0| 0.0| 0.0|   0|    0|    0|   0|   0.0|   0.0|   0.0|  881|    0|          0|                0|         2|           2|         1|               1|               1|             2|           0|         0|               0|         1|         2|              0|    Normal|    0|\n",
      "|  3|5.0E-6|  udp|      -|  INT|    2|    0|  1068|     0|200000.0051| 254|   0|     8.544E8|  0.0|    0|    0| 0.005|   0.0| 0.0| 0.0|   0|    0|    0|   0|   0.0|   0.0|   0.0|  534|    0|          0|                0|         3|           2|         1|               1|               1|             3|           0|         0|               0|         1|         3|              0|    Normal|    0|\n",
      "|  4|6.0E-6|  udp|      -|  INT|    2|    0|   900|     0|166666.6608| 254|   0|       6.0E8|  0.0|    0|    0| 0.006|   0.0| 0.0| 0.0|   0|    0|    0|   0|   0.0|   0.0|   0.0|  450|    0|          0|                0|         3|           2|         2|               2|               1|             3|           0|         0|               0|         2|         3|              0|    Normal|    0|\n",
      "|  5|1.0E-5|  udp|      -|  INT|    2|    0|  2126|     0|100000.0025| 254|   0|     8.504E8|  0.0|    0|    0|  0.01|   0.0| 0.0| 0.0|   0|    0|    0|   0|   0.0|   0.0|   0.0| 1063|    0|          0|                0|         3|           2|         2|               2|               1|             3|           0|         0|               0|         2|         3|              0|    Normal|    0|\n",
      "+---+------+-----+-------+-----+-----+-----+------+------+-----------+----+----+------------+-----+-----+-----+------+------+----+----+----+-----+-----+----+------+------+------+-----+-----+-----------+-----------------+----------+------------+----------+----------------+----------------+--------------+------------+----------+----------------+----------+----------+---------------+----------+-----+\n",
      "only showing top 5 rows\n",
      "\n"
     ]
    }
   ],
   "source": [
    "train_df = spark.read.csv('UNSW_NB15_training-set.csv', header = True, inferSchema=True)\n",
    "train_df.show(5)"
   ]
  },
  {
   "cell_type": "code",
   "execution_count": 5,
   "id": "eb9cf2d9",
   "metadata": {},
   "outputs": [
    {
     "name": "stderr",
     "output_type": "stream",
     "text": [
      "                                                                                \r"
     ]
    },
    {
     "name": "stdout",
     "output_type": "stream",
     "text": [
      "+---+--------+-----+-------+-----+-----+-----+------+------+---------+----+----+-----------+-----------+-----+-----+----------+----------+-----------+-----------+----+----------+----------+----+--------+--------+--------+-----+-----+-----------+-----------------+----------+------------+----------+----------------+----------------+--------------+------------+----------+----------------+----------+----------+---------------+----------+-----+\n",
      "| id|     dur|proto|service|state|spkts|dpkts|sbytes|dbytes|     rate|sttl|dttl|      sload|      dload|sloss|dloss|    sinpkt|    dinpkt|       sjit|       djit|swin|     stcpb|     dtcpb|dwin|  tcprtt|  synack|  ackdat|smean|dmean|trans_depth|response_body_len|ct_srv_src|ct_state_ttl|ct_dst_ltm|ct_src_dport_ltm|ct_dst_sport_ltm|ct_dst_src_ltm|is_ftp_login|ct_ftp_cmd|ct_flw_http_mthd|ct_src_ltm|ct_srv_dst|is_sm_ips_ports|attack_cat|label|\n",
      "+---+--------+-----+-------+-----+-----+-----+------+------+---------+----+----+-----------+-----------+-----+-----+----------+----------+-----------+-----------+----+----------+----------+----+--------+--------+--------+-----+-----+-----------+-----------------+----------+------------+----------+----------------+----------------+--------------+------------+----------+----------------+----------+----------+---------------+----------+-----+\n",
      "|  1|0.121478|  tcp|      -|  FIN|    6|    4|   258|   172| 74.08749| 252| 254|14158.94238|8495.365234|    0|    0|   24.2956|     8.375|  30.177547|  11.830604| 255| 621772692|2202533631| 255|     0.0|     0.0|     0.0|   43|   43|          0|                0|         1|           0|         1|               1|               1|             1|           0|         0|               0|         1|         1|              0|    Normal|    0|\n",
      "|  2|0.649902|  tcp|      -|  FIN|   14|   38|   734| 42014|78.473372|  62| 252|8395.112305|503571.3125|    2|   17|    49.915| 15.432865|  61.426934| 1387.77833| 255|1417884146|3077387971| 255|     0.0|     0.0|     0.0|   52| 1106|          0|                0|        43|           1|         1|               1|               1|             2|           0|         0|               0|         1|         6|              0|    Normal|    0|\n",
      "|  3|1.623129|  tcp|      -|  FIN|    8|   16|   364| 13186|14.170161|  62| 252|1572.271851|60929.23047|    1|    6|231.875571|102.737203|17179.58686|11420.92623| 255|2116150707|2963114973| 255|0.111897|0.061458|0.050439|   46|  824|          0|                0|         7|           1|         2|               1|               1|             3|           0|         0|               0|         2|         6|              0|    Normal|    0|\n",
      "|  4|1.681642|  tcp|    ftp|  FIN|   12|   12|   628|   770|13.677108|  62| 252|2740.178955| 3358.62207|    1|    3|152.876547| 90.235726| 259.080172|4991.784669| 255|1107119177|1047442890| 255|     0.0|     0.0|     0.0|   52|   64|          0|                0|         1|           1|         2|               1|               1|             3|           1|         1|               0|         2|         1|              0|    Normal|    0|\n",
      "|  5|0.449454|  tcp|      -|  FIN|   10|    6|   534|   268|33.373826| 254| 252|8561.499023|3987.059814|    2|    1| 47.750333| 75.659602|2415.837634|    115.807| 255|2436137549|1977154190| 255|0.128381|0.071147|0.057234|   53|   45|          0|                0|        43|           1|         2|               2|               1|            40|           0|         0|               0|         2|        39|              0|    Normal|    0|\n",
      "+---+--------+-----+-------+-----+-----+-----+------+------+---------+----+----+-----------+-----------+-----+-----+----------+----------+-----------+-----------+----+----------+----------+----+--------+--------+--------+-----+-----+-----------+-----------------+----------+------------+----------+----------------+----------------+--------------+------------+----------+----------------+----------+----------+---------------+----------+-----+\n",
      "only showing top 5 rows\n",
      "\n"
     ]
    }
   ],
   "source": [
    "test_df = spark.read.csv('UNSW_NB15_testing-set.csv', header = True, inferSchema=True)\n",
    "test_df.show(5)"
   ]
  },
  {
   "cell_type": "code",
   "execution_count": 6,
   "id": "7adb74d1",
   "metadata": {},
   "outputs": [
    {
     "name": "stdout",
     "output_type": "stream",
     "text": [
      "root\n",
      " |-- id: integer (nullable = true)\n",
      " |-- dur: double (nullable = true)\n",
      " |-- proto: string (nullable = true)\n",
      " |-- service: string (nullable = true)\n",
      " |-- state: string (nullable = true)\n",
      " |-- spkts: integer (nullable = true)\n",
      " |-- dpkts: integer (nullable = true)\n",
      " |-- sbytes: integer (nullable = true)\n",
      " |-- dbytes: integer (nullable = true)\n",
      " |-- rate: double (nullable = true)\n",
      " |-- sttl: integer (nullable = true)\n",
      " |-- dttl: integer (nullable = true)\n",
      " |-- sload: double (nullable = true)\n",
      " |-- dload: double (nullable = true)\n",
      " |-- sloss: integer (nullable = true)\n",
      " |-- dloss: integer (nullable = true)\n",
      " |-- sinpkt: double (nullable = true)\n",
      " |-- dinpkt: double (nullable = true)\n",
      " |-- sjit: double (nullable = true)\n",
      " |-- djit: double (nullable = true)\n",
      " |-- swin: integer (nullable = true)\n",
      " |-- stcpb: long (nullable = true)\n",
      " |-- dtcpb: long (nullable = true)\n",
      " |-- dwin: integer (nullable = true)\n",
      " |-- tcprtt: double (nullable = true)\n",
      " |-- synack: double (nullable = true)\n",
      " |-- ackdat: double (nullable = true)\n",
      " |-- smean: integer (nullable = true)\n",
      " |-- dmean: integer (nullable = true)\n",
      " |-- trans_depth: integer (nullable = true)\n",
      " |-- response_body_len: integer (nullable = true)\n",
      " |-- ct_srv_src: integer (nullable = true)\n",
      " |-- ct_state_ttl: integer (nullable = true)\n",
      " |-- ct_dst_ltm: integer (nullable = true)\n",
      " |-- ct_src_dport_ltm: integer (nullable = true)\n",
      " |-- ct_dst_sport_ltm: integer (nullable = true)\n",
      " |-- ct_dst_src_ltm: integer (nullable = true)\n",
      " |-- is_ftp_login: integer (nullable = true)\n",
      " |-- ct_ftp_cmd: integer (nullable = true)\n",
      " |-- ct_flw_http_mthd: integer (nullable = true)\n",
      " |-- ct_src_ltm: integer (nullable = true)\n",
      " |-- ct_srv_dst: integer (nullable = true)\n",
      " |-- is_sm_ips_ports: integer (nullable = true)\n",
      " |-- attack_cat: string (nullable = true)\n",
      " |-- label: integer (nullable = true)\n",
      "\n"
     ]
    }
   ],
   "source": [
    "# identify string columns\n",
    "train_df.printSchema()"
   ]
  },
  {
   "cell_type": "code",
   "execution_count": 7,
   "id": "052cdf77",
   "metadata": {},
   "outputs": [
    {
     "name": "stdout",
     "output_type": "stream",
     "text": [
      "root\n",
      " |-- id: integer (nullable = true)\n",
      " |-- dur: double (nullable = true)\n",
      " |-- proto: string (nullable = true)\n",
      " |-- service: string (nullable = true)\n",
      " |-- state: string (nullable = true)\n",
      " |-- spkts: integer (nullable = true)\n",
      " |-- dpkts: integer (nullable = true)\n",
      " |-- sbytes: integer (nullable = true)\n",
      " |-- dbytes: integer (nullable = true)\n",
      " |-- rate: double (nullable = true)\n",
      " |-- sttl: integer (nullable = true)\n",
      " |-- dttl: integer (nullable = true)\n",
      " |-- sload: double (nullable = true)\n",
      " |-- dload: double (nullable = true)\n",
      " |-- sloss: integer (nullable = true)\n",
      " |-- dloss: integer (nullable = true)\n",
      " |-- sinpkt: double (nullable = true)\n",
      " |-- dinpkt: double (nullable = true)\n",
      " |-- sjit: double (nullable = true)\n",
      " |-- djit: double (nullable = true)\n",
      " |-- swin: integer (nullable = true)\n",
      " |-- stcpb: long (nullable = true)\n",
      " |-- dtcpb: long (nullable = true)\n",
      " |-- dwin: integer (nullable = true)\n",
      " |-- tcprtt: double (nullable = true)\n",
      " |-- synack: double (nullable = true)\n",
      " |-- ackdat: double (nullable = true)\n",
      " |-- smean: integer (nullable = true)\n",
      " |-- dmean: integer (nullable = true)\n",
      " |-- trans_depth: integer (nullable = true)\n",
      " |-- response_body_len: integer (nullable = true)\n",
      " |-- ct_srv_src: integer (nullable = true)\n",
      " |-- ct_state_ttl: integer (nullable = true)\n",
      " |-- ct_dst_ltm: integer (nullable = true)\n",
      " |-- ct_src_dport_ltm: integer (nullable = true)\n",
      " |-- ct_dst_sport_ltm: integer (nullable = true)\n",
      " |-- ct_dst_src_ltm: integer (nullable = true)\n",
      " |-- is_ftp_login: integer (nullable = true)\n",
      " |-- ct_ftp_cmd: integer (nullable = true)\n",
      " |-- ct_flw_http_mthd: integer (nullable = true)\n",
      " |-- ct_src_ltm: integer (nullable = true)\n",
      " |-- ct_srv_dst: integer (nullable = true)\n",
      " |-- is_sm_ips_ports: integer (nullable = true)\n",
      " |-- attack_cat: string (nullable = true)\n",
      " |-- label: integer (nullable = true)\n",
      "\n"
     ]
    }
   ],
   "source": [
    "# identify string columns\n",
    "test_df.printSchema()"
   ]
  },
  {
   "cell_type": "markdown",
   "id": "578710be",
   "metadata": {},
   "source": [
    "### **(a) Discover and Visualise Data**"
   ]
  },
  {
   "cell_type": "markdown",
   "id": "31a7f6c5",
   "metadata": {},
   "source": [
    "**Train DF**"
   ]
  },
  {
   "cell_type": "markdown",
   "id": "039eb1f1",
   "metadata": {},
   "source": [
    "**Visualization for count of \"attack_cat\" (Bar Graph)**"
   ]
  },
  {
   "cell_type": "code",
   "execution_count": 8,
   "id": "6d43c108",
   "metadata": {},
   "outputs": [
    {
     "name": "stderr",
     "output_type": "stream",
     "text": [
      "\r",
      "[Stage 6:>                                                          (0 + 4) / 4]\r",
      "\r",
      "                                                                                \r"
     ]
    },
    {
     "data": {
      "text/plain": [
       "attack_cat\n",
       "Normal            37000\n",
       "Generic           18871\n",
       "Exploits          11132\n",
       "Fuzzers            6062\n",
       "DoS                4089\n",
       "Reconnaissance     3496\n",
       "Analysis            677\n",
       "Backdoor            583\n",
       "Shellcode           378\n",
       "Worms                44\n",
       "dtype: int64"
      ]
     },
     "execution_count": 8,
     "metadata": {},
     "output_type": "execute_result"
    }
   ],
   "source": [
    "# identifying the types and number of records under 'attack_cat' column\n",
    "pd_train_df = train_df.toPandas()\n",
    "pd_train_df.groupby('attack_cat').size().sort_values(ascending=False)"
   ]
  },
  {
   "cell_type": "code",
   "execution_count": 9,
   "id": "55720fc0",
   "metadata": {},
   "outputs": [
    {
     "data": {
      "image/png": "[encoded data removed]",
      "text/plain": [
       "<Figure size 864x504 with 1 Axes>"
      ]
     },
     "metadata": {
      "needs_background": "light"
     },
     "output_type": "display_data"
    }
   ],
   "source": [
    "# visualize the count of each 'attack_cat' in data\n",
    "plt.figure(figsize=(12,7))\n",
    "plt.title('Count of each attack_cat')\n",
    "sns.set_style('whitegrid')\n",
    "sns.countplot(x=pd_train_df['attack_cat'],palette='Paired',order=pd_train_df['attack_cat'].value_counts().index)\n",
    "plt.show()"
   ]
  },
  {
   "cell_type": "markdown",
   "id": "063b2003",
   "metadata": {},
   "source": [
    "**Visualization for count of \"label\" (Bar Graph)**"
   ]
  },
  {
   "cell_type": "code",
   "execution_count": 10,
   "id": "454a61ef",
   "metadata": {},
   "outputs": [
    {
     "data": {
      "text/plain": [
       "label\n",
       "1    45332\n",
       "0    37000\n",
       "dtype: int64"
      ]
     },
     "execution_count": 10,
     "metadata": {},
     "output_type": "execute_result"
    }
   ],
   "source": [
    "pd_train_df.groupby('label').size().sort_values(ascending=False)"
   ]
  },
  {
   "cell_type": "code",
   "execution_count": 11,
   "id": "bcd906f8",
   "metadata": {},
   "outputs": [
    {
     "data": {
      "image/png": "[encoded data removed]",
      "text/plain": [
       "<Figure size 504x360 with 1 Axes>"
      ]
     },
     "metadata": {},
     "output_type": "display_data"
    }
   ],
   "source": [
    "# visualize the count of each 'label' in data\n",
    "plt.figure(figsize=(7,5))\n",
    "plt.title('Count of each label')\n",
    "sns.set_style('whitegrid')\n",
    "sns.countplot(x=pd_train_df['label'],palette='Paired',order=pd_train_df['label'].value_counts().index)\n",
    "plt.show()"
   ]
  },
  {
   "cell_type": "markdown",
   "id": "48dbd90c",
   "metadata": {},
   "source": [
    "**Visualization for percentage of each \"label\" (Pie Chart)**"
   ]
  },
  {
   "cell_type": "code",
   "execution_count": 12,
   "id": "4a65141b",
   "metadata": {},
   "outputs": [
    {
     "data": {
      "image/png": "[encoded data removed]",
      "text/plain": [
       "<Figure size 360x360 with 1 Axes>"
      ]
     },
     "metadata": {},
     "output_type": "display_data"
    }
   ],
   "source": [
    "plt.figure(figsize=(5, 5))\n",
    "pd_train_df['label'].value_counts().plot(kind='pie', autopct='%1.1f%%')\n",
    "plt.ylabel('')\n",
    "plt.title('Percentage of each label')\n",
    "plt.show()"
   ]
  },
  {
   "cell_type": "markdown",
   "id": "a095e0cf",
   "metadata": {},
   "source": [
    "**Test DF**"
   ]
  },
  {
   "cell_type": "markdown",
   "id": "3f307084",
   "metadata": {},
   "source": [
    "**Visualization for count of \"attack_cat\" (Bar Graph)**"
   ]
  },
  {
   "cell_type": "code",
   "execution_count": 13,
   "id": "e5ef2cc9",
   "metadata": {},
   "outputs": [
    {
     "data": {
      "text/plain": [
       "attack_cat\n",
       "Normal            56000\n",
       "Generic           40000\n",
       "Exploits          33393\n",
       "Fuzzers           18184\n",
       "DoS               12264\n",
       "Reconnaissance    10491\n",
       "Analysis           2000\n",
       "Backdoor           1746\n",
       "Shellcode          1133\n",
       "Worms               130\n",
       "dtype: int64"
      ]
     },
     "execution_count": 13,
     "metadata": {},
     "output_type": "execute_result"
    }
   ],
   "source": [
    "# identifying the types and number of records under 'attack_cat' column\n",
    "pd_test_df = test_df.toPandas()\n",
    "pd_test_df.groupby('attack_cat').size().sort_values(ascending=False)"
   ]
  },
  {
   "cell_type": "code",
   "execution_count": 14,
   "id": "b2dd398b",
   "metadata": {},
   "outputs": [
    {
     "data": {
      "image/png": "[encoded data removed]",
      "text/plain": [
       "<Figure size 864x504 with 1 Axes>"
      ]
     },
     "metadata": {},
     "output_type": "display_data"
    }
   ],
   "source": [
    "# visualize the count of each 'attack_cat' in data\n",
    "plt.figure(figsize=(12,7))\n",
    "plt.title('Count of each attack_cat')\n",
    "sns.set_style('whitegrid')\n",
    "sns.countplot(x=pd_test_df['attack_cat'],palette='Paired',order=pd_test_df['attack_cat'].value_counts().index)\n",
    "plt.show()"
   ]
  },
  {
   "cell_type": "markdown",
   "id": "a42b15b6",
   "metadata": {},
   "source": [
    "**Visualization for count of \"label\" (Bar Graph)**"
   ]
  },
  {
   "cell_type": "code",
   "execution_count": 15,
   "id": "9fa1b6bc",
   "metadata": {},
   "outputs": [
    {
     "data": {
      "text/plain": [
       "label\n",
       "1    119341\n",
       "0     56000\n",
       "dtype: int64"
      ]
     },
     "execution_count": 15,
     "metadata": {},
     "output_type": "execute_result"
    }
   ],
   "source": [
    "pd_test_df.groupby('label').size().sort_values(ascending=False)"
   ]
  },
  {
   "cell_type": "code",
   "execution_count": 16,
   "id": "0a413d83",
   "metadata": {},
   "outputs": [
    {
     "data": {
      "image/png": "[encoded data removed]",
      "text/plain": [
       "<Figure size 504x360 with 1 Axes>"
      ]
     },
     "metadata": {},
     "output_type": "display_data"
    }
   ],
   "source": [
    "# visualize the count of each 'label' in data\n",
    "plt.figure(figsize=(7,5))\n",
    "plt.title('Count of each label')\n",
    "sns.set_style('whitegrid')\n",
    "sns.countplot(x=pd_test_df['label'],palette='Paired',order=pd_test_df['label'].value_counts().index)\n",
    "plt.show()"
   ]
  },
  {
   "cell_type": "markdown",
   "id": "b9f19460",
   "metadata": {},
   "source": [
    "**Visualization for percentage of each \"label\" (Pie Chart)**"
   ]
  },
  {
   "cell_type": "code",
   "execution_count": 17,
   "id": "7da218eb",
   "metadata": {},
   "outputs": [
    {
     "data": {
      "image/png": "[encoded data removed]",
      "text/plain": [
       "<Figure size 360x360 with 1 Axes>"
      ]
     },
     "metadata": {},
     "output_type": "display_data"
    }
   ],
   "source": [
    "plt.figure(figsize=(5, 5))\n",
    "pd_test_df['label'].value_counts().plot(kind='pie', autopct='%1.1f%%')\n",
    "plt.ylabel('')\n",
    "plt.title('Percentage of each label')\n",
    "plt.show()"
   ]
  },
  {
   "cell_type": "markdown",
   "id": "b83a2e7a",
   "metadata": {},
   "source": [
    "### **(b) Prepare the data for machine learning**"
   ]
  },
  {
   "cell_type": "markdown",
   "id": "69072aab",
   "metadata": {},
   "source": [
    "**Drop 'id' column**"
   ]
  },
  {
   "cell_type": "code",
   "execution_count": 18,
   "id": "460182f3",
   "metadata": {},
   "outputs": [],
   "source": [
    "# 'id' column is definitely redundant, so we drop it\n",
    "train_df = train_df.drop('id')\n",
    "test_df = test_df.drop('id')"
   ]
  },
  {
   "cell_type": "markdown",
   "id": "ee3c2289",
   "metadata": {},
   "source": [
    "**Converting categorical data into numerical data**"
   ]
  },
  {
   "cell_type": "code",
   "execution_count": 19,
   "id": "374e0cde",
   "metadata": {},
   "outputs": [
    {
     "name": "stderr",
     "output_type": "stream",
     "text": [
      "                                                                                \r"
     ]
    }
   ],
   "source": [
    "# function that takes a dataframe and a list of columns to index and returns a dataframe with indexed columns and the original columns dropped\n",
    "def index_and_drop_columns(df, columns_to_index):\n",
    "    indexed_df = df\n",
    "    indexers = []\n",
    "\n",
    "    for col_name in columns_to_index:\n",
    "        indexer = StringIndexer(inputCol=col_name, outputCol=f\"{col_name}_index\")\n",
    "        indexed_df = indexer.fit(indexed_df).transform(indexed_df)\n",
    "        indexers.append(indexer)\n",
    "\n",
    "    columns_to_drop = [col_name for col_name in columns_to_index]    \n",
    "    indexed_df = indexed_df.drop(*columns_to_drop)\n",
    "    \n",
    "    return indexed_df\n",
    "\n",
    "# apply the function to the train and test dataframes\n",
    "columns_to_index = [\"attack_cat\", \"proto\", \"service\", \"state\"]\n",
    "df_train_indexed = index_and_drop_columns(train_df, columns_to_index)\n",
    "df_test_indexed = index_and_drop_columns(test_df, columns_to_index)"
   ]
  },
  {
   "cell_type": "code",
   "execution_count": 20,
   "id": "7364e4fa",
   "metadata": {},
   "outputs": [
    {
     "name": "stdout",
     "output_type": "stream",
     "text": [
      "+------+-----+-----+------+------+-----------+----+----+-------------+-----+-----+-----+---------+------+----+----+----+-----+-----+----+------+------+------+-----+-----+-----------+-----------------+----------+------------+----------+----------------+----------------+--------------+------------+----------+----------------+----------+----------+---------------+-----+----------------+-----------+-------------+-----------+\n",
      "|   dur|spkts|dpkts|sbytes|dbytes|       rate|sttl|dttl|        sload|dload|sloss|dloss|   sinpkt|dinpkt|sjit|djit|swin|stcpb|dtcpb|dwin|tcprtt|synack|ackdat|smean|dmean|trans_depth|response_body_len|ct_srv_src|ct_state_ttl|ct_dst_ltm|ct_src_dport_ltm|ct_dst_sport_ltm|ct_dst_src_ltm|is_ftp_login|ct_ftp_cmd|ct_flw_http_mthd|ct_src_ltm|ct_srv_dst|is_sm_ips_ports|label|attack_cat_index|proto_index|service_index|state_index|\n",
      "+------+-----+-----+------+------+-----------+----+----+-------------+-----+-----+-----+---------+------+----+----+----+-----+-----+----+------+------+------+-----+-----+-----------+-----------------+----------+------------+----------+----------------+----------------+--------------+------------+----------+----------------+----------+----------+---------------+-----+----------------+-----------+-------------+-----------+\n",
      "|1.1E-5|    2|    0|   496|     0| 90909.0902| 254|   0| 1.80363632E8|  0.0|    0|    0|    0.011|   0.0| 0.0| 0.0|   0|    0|    0|   0|   0.0|   0.0|   0.0|  248|    0|          0|                0|         2|           2|         1|               1|               1|             2|           0|         0|               0|         1|         2|              0|    0|             0.0|        1.0|          0.0|        1.0|\n",
      "|8.0E-6|    2|    0|  1762|     0|125000.0003| 254|   0|       8.81E8|  0.0|    0|    0|    0.008|   0.0| 0.0| 0.0|   0|    0|    0|   0|   0.0|   0.0|   0.0|  881|    0|          0|                0|         2|           2|         1|               1|               1|             2|           0|         0|               0|         1|         2|              0|    0|             0.0|        1.0|          0.0|        1.0|\n",
      "|5.0E-6|    2|    0|  1068|     0|200000.0051| 254|   0|      8.544E8|  0.0|    0|    0|    0.005|   0.0| 0.0| 0.0|   0|    0|    0|   0|   0.0|   0.0|   0.0|  534|    0|          0|                0|         3|           2|         1|               1|               1|             3|           0|         0|               0|         1|         3|              0|    0|             0.0|        1.0|          0.0|        1.0|\n",
      "|6.0E-6|    2|    0|   900|     0|166666.6608| 254|   0|        6.0E8|  0.0|    0|    0|    0.006|   0.0| 0.0| 0.0|   0|    0|    0|   0|   0.0|   0.0|   0.0|  450|    0|          0|                0|         3|           2|         2|               2|               1|             3|           0|         0|               0|         2|         3|              0|    0|             0.0|        1.0|          0.0|        1.0|\n",
      "|1.0E-5|    2|    0|  2126|     0|100000.0025| 254|   0|      8.504E8|  0.0|    0|    0|     0.01|   0.0| 0.0| 0.0|   0|    0|    0|   0|   0.0|   0.0|   0.0| 1063|    0|          0|                0|         3|           2|         2|               2|               1|             3|           0|         0|               0|         2|         3|              0|    0|             0.0|        1.0|          0.0|        1.0|\n",
      "|3.0E-6|    2|    0|   784|     0|333333.3215| 254|   0|1.045333312E9|  0.0|    0|    0|    0.003|   0.0| 0.0| 0.0|   0|    0|    0|   0|   0.0|   0.0|   0.0|  392|    0|          0|                0|         2|           2|         2|               2|               1|             2|           0|         0|               0|         2|         2|              0|    0|             0.0|        1.0|          0.0|        1.0|\n",
      "|6.0E-6|    2|    0|  1960|     0|166666.6608| 254|   0|1.306666624E9|  0.0|    0|    0|    0.006|   0.0| 0.0| 0.0|   0|    0|    0|   0|   0.0|   0.0|   0.0|  980|    0|          0|                0|         2|           2|         2|               2|               1|             2|           0|         0|               0|         2|         2|              0|    0|             0.0|        1.0|          0.0|        1.0|\n",
      "|2.8E-5|    2|    0|  1384|     0|35714.28522| 254|   0| 1.97714288E8|  0.0|    0|    0|    0.028|   0.0| 0.0| 0.0|   0|    0|    0|   0|   0.0|   0.0|   0.0|  692|    0|          0|                0|         3|           2|         1|               1|               1|             3|           0|         0|               0|         1|         3|              0|    0|             0.0|        1.0|          0.0|        1.0|\n",
      "|   0.0|    1|    0|    46|     0|        0.0|   0|   0|          0.0|  0.0|    0|    0|60000.688|   0.0| 0.0| 0.0|   0|    0|    0|   0|   0.0|   0.0|   0.0|   46|    0|          0|                0|         2|           2|         2|               2|               2|             2|           0|         0|               0|         2|         2|              1|    0|             0.0|        3.0|          0.0|        1.0|\n",
      "|   0.0|    1|    0|    46|     0|        0.0|   0|   0|          0.0|  0.0|    0|    0|60000.712|   0.0| 0.0| 0.0|   0|    0|    0|   0|   0.0|   0.0|   0.0|   46|    0|          0|                0|         2|           2|         2|               2|               2|             2|           0|         0|               0|         2|         2|              1|    0|             0.0|        3.0|          0.0|        1.0|\n",
      "|   0.0|    1|    0|    46|     0|        0.0|   0|   0|          0.0|  0.0|    0|    0|60000.688|   0.0| 0.0| 0.0|   0|    0|    0|   0|   0.0|   0.0|   0.0|   46|    0|          0|                0|         2|           2|         2|               2|               2|             2|           0|         0|               0|         2|         2|              1|    0|             0.0|        3.0|          0.0|        1.0|\n",
      "|   0.0|    1|    0|    46|     0|        0.0|   0|   0|          0.0|  0.0|    0|    0|60000.712|   0.0| 0.0| 0.0|   0|    0|    0|   0|   0.0|   0.0|   0.0|   46|    0|          0|                0|         2|           2|         2|               2|               2|             2|           0|         0|               0|         2|         2|              1|    0|             0.0|        3.0|          0.0|        1.0|\n",
      "|4.0E-6|    2|    0|  1454|     0|250000.0006| 254|   0|      1.454E9|  0.0|    0|    0|    0.004|   0.0| 0.0| 0.0|   0|    0|    0|   0|   0.0|   0.0|   0.0|  727|    0|          0|                0|         3|           2|         1|               1|               1|             3|           0|         0|               0|         1|         3|              0|    0|             0.0|        1.0|          0.0|        1.0|\n",
      "|7.0E-6|    2|    0|  2062|     0|142857.1409| 254|   0|1.178285696E9|  0.0|    0|    0|    0.007|   0.0| 0.0| 0.0|   0|    0|    0|   0|   0.0|   0.0|   0.0| 1031|    0|          0|                0|         3|           2|         1|               1|               1|             3|           0|         0|               0|         1|         3|              0|    0|             0.0|        1.0|          0.0|        1.0|\n",
      "|1.1E-5|    2|    0|  2040|     0| 90909.0902| 254|   0| 7.41818176E8|  0.0|    0|    0|    0.011|   0.0| 0.0| 0.0|   0|    0|    0|   0|   0.0|   0.0|   0.0| 1020|    0|          0|                0|         1|           2|         1|               1|               1|             1|           0|         0|               0|         1|         1|              0|    0|             0.0|        1.0|          0.0|        1.0|\n",
      "|4.0E-6|    2|    0|  1052|     0|250000.0006| 254|   0|      1.052E9|  0.0|    0|    0|    0.004|   0.0| 0.0| 0.0|   0|    0|    0|   0|   0.0|   0.0|   0.0|  526|    0|          0|                0|         3|           2|         1|               1|               1|             3|           0|         0|               0|         2|         3|              0|    0|             0.0|        1.0|          0.0|        1.0|\n",
      "|3.0E-6|    2|    0|   314|     0|333333.3215| 254|   0| 4.18666656E8|  0.0|    0|    0|    0.003|   0.0| 0.0| 0.0|   0|    0|    0|   0|   0.0|   0.0|   0.0|  157|    0|          0|                0|         2|           2|         1|               1|               1|             2|           0|         0|               0|         1|         2|              0|    0|             0.0|        1.0|          0.0|        1.0|\n",
      "|1.0E-5|    2|    0|  1774|     0|100000.0025| 254|   0|      7.096E8|  0.0|    0|    0|     0.01|   0.0| 0.0| 0.0|   0|    0|    0|   0|   0.0|   0.0|   0.0|  887|    0|          0|                0|         2|           2|         1|               1|               1|             2|           0|         0|               0|         1|         2|              0|    0|             0.0|        1.0|          0.0|        1.0|\n",
      "|2.0E-6|    2|    0|  1568|     0|500000.0013| 254|   0|      3.136E9|  0.0|    0|    0|    0.002|   0.0| 0.0| 0.0|   0|    0|    0|   0|   0.0|   0.0|   0.0|  784|    0|          0|                0|         3|           2|         1|               1|               1|             2|           0|         0|               0|         1|         2|              0|    0|             0.0|        1.0|          0.0|        1.0|\n",
      "|4.0E-6|    2|    0|  2054|     0|250000.0006| 254|   0|      2.054E9|  0.0|    0|    0|    0.004|   0.0| 0.0| 0.0|   0|    0|    0|   0|   0.0|   0.0|   0.0| 1027|    0|          0|                0|         3|           2|         1|               1|               1|             2|           0|         0|               0|         2|         2|              0|    0|             0.0|        1.0|          0.0|        1.0|\n",
      "+------+-----+-----+------+------+-----------+----+----+-------------+-----+-----+-----+---------+------+----+----+----+-----+-----+----+------+------+------+-----+-----+-----------+-----------------+----------+------------+----------+----------------+----------------+--------------+------------+----------+----------------+----------+----------+---------------+-----+----------------+-----------+-------------+-----------+\n",
      "only showing top 20 rows\n",
      "\n"
     ]
    }
   ],
   "source": [
    "df_train_indexed.show()"
   ]
  },
  {
   "cell_type": "code",
   "execution_count": 21,
   "id": "cf6f5ba5",
   "metadata": {},
   "outputs": [
    {
     "name": "stdout",
     "output_type": "stream",
     "text": [
      "+--------+-----+-----+------+------+-----------+----+----+-----------+-----------+-----+-----+----------+----------+-----------+-----------+----+----------+----------+----+--------+--------+--------+-----+-----+-----------+-----------------+----------+------------+----------+----------------+----------------+--------------+------------+----------+----------------+----------+----------+---------------+-----+----------------+-----------+-------------+-----------+\n",
      "|     dur|spkts|dpkts|sbytes|dbytes|       rate|sttl|dttl|      sload|      dload|sloss|dloss|    sinpkt|    dinpkt|       sjit|       djit|swin|     stcpb|     dtcpb|dwin|  tcprtt|  synack|  ackdat|smean|dmean|trans_depth|response_body_len|ct_srv_src|ct_state_ttl|ct_dst_ltm|ct_src_dport_ltm|ct_dst_sport_ltm|ct_dst_src_ltm|is_ftp_login|ct_ftp_cmd|ct_flw_http_mthd|ct_src_ltm|ct_srv_dst|is_sm_ips_ports|label|attack_cat_index|proto_index|service_index|state_index|\n",
      "+--------+-----+-----+------+------+-----------+----+----+-----------+-----------+-----+-----+----------+----------+-----------+-----------+----+----------+----------+----+--------+--------+--------+-----+-----+-----------+-----------------+----------+------------+----------+----------------+----------------+--------------+------------+----------+----------------+----------+----------+---------------+-----+----------------+-----------+-------------+-----------+\n",
      "|0.121478|    6|    4|   258|   172|   74.08749| 252| 254|14158.94238|8495.365234|    0|    0|   24.2956|     8.375|  30.177547|  11.830604| 255| 621772692|2202533631| 255|     0.0|     0.0|     0.0|   43|   43|          0|                0|         1|           0|         1|               1|               1|             1|           0|         0|               0|         1|         1|              0|    0|             0.0|        0.0|          0.0|        1.0|\n",
      "|0.649902|   14|   38|   734| 42014|  78.473372|  62| 252|8395.112305|503571.3125|    2|   17|    49.915| 15.432865|  61.426934| 1387.77833| 255|1417884146|3077387971| 255|     0.0|     0.0|     0.0|   52| 1106|          0|                0|        43|           1|         1|               1|               1|             2|           0|         0|               0|         1|         6|              0|    0|             0.0|        0.0|          0.0|        1.0|\n",
      "|1.623129|    8|   16|   364| 13186|  14.170161|  62| 252|1572.271851|60929.23047|    1|    6|231.875571|102.737203|17179.58686|11420.92623| 255|2116150707|2963114973| 255|0.111897|0.061458|0.050439|   46|  824|          0|                0|         7|           1|         2|               1|               1|             3|           0|         0|               0|         2|         6|              0|    0|             0.0|        0.0|          0.0|        1.0|\n",
      "|1.681642|   12|   12|   628|   770|  13.677108|  62| 252|2740.178955| 3358.62207|    1|    3|152.876547| 90.235726| 259.080172|4991.784669| 255|1107119177|1047442890| 255|     0.0|     0.0|     0.0|   52|   64|          0|                0|         1|           1|         2|               1|               1|             3|           1|         1|               0|         2|         1|              0|    0|             0.0|        0.0|          5.0|        1.0|\n",
      "|0.449454|   10|    6|   534|   268|  33.373826| 254| 252|8561.499023|3987.059814|    2|    1| 47.750333| 75.659602|2415.837634|    115.807| 255|2436137549|1977154190| 255|0.128381|0.071147|0.057234|   53|   45|          0|                0|        43|           1|         2|               2|               1|            40|           0|         0|               0|         2|        39|              0|    0|             0.0|        0.0|          0.0|        1.0|\n",
      "|0.380537|   10|    6|   534|   268|   39.41798| 254| 252|10112.02539|4709.134766|    2|    1| 39.928778|    52.241|2223.730342|    82.5505| 255|3984155503|1796040391| 255|0.172934|0.119331|0.053603|   53|   45|          0|                0|        43|           1|         2|               2|               1|            40|           0|         0|               0|         2|        39|              0|    0|             0.0|        0.0|          0.0|        1.0|\n",
      "|0.637109|   10|    8|   534|   354|  26.683033| 254| 252|6039.783203| 3892.58374|    2|    1| 68.267778| 81.137711| 4286.82857| 119.422719| 255|1787309226|1767180493| 255|0.143337|0.069136|0.074201|   53|   44|          0|                0|        43|           1|         1|               1|               1|            40|           0|         0|               0|         1|        39|              0|    0|             0.0|        0.0|          0.0|        1.0|\n",
      "|0.521584|   10|    8|   534|   354|  32.593026| 254| 252|7377.527344| 4754.74707|    2|    1|    55.794| 66.054141|3770.580726| 118.962633| 255| 205985702| 316006300| 255|0.116615|0.059195| 0.05742|   53|   44|          0|                0|        43|           1|         3|               3|               1|            40|           0|         0|               0|         3|        39|              0|    0|             0.0|        0.0|          0.0|        1.0|\n",
      "|0.542905|   10|    8|   534|   354|  31.313031| 254| 252|7087.796387|4568.018555|    2|    1| 60.210889|    68.109|4060.625597| 106.611547| 255| 884094874|3410317203| 255|0.118584|0.066133|0.052451|   53|   44|          0|                0|        43|           1|         3|               3|               1|            40|           0|         0|               0|         3|        39|              0|    0|             0.0|        0.0|          0.0|        1.0|\n",
      "|0.258687|   10|    6|   534|   268|  57.985135| 254| 252|14875.12012|6927.291016|    2|    1| 27.505111| 39.106801|1413.686415|  57.200395| 255|3368447996| 584859215| 255|0.087934|0.063116|0.024818|   53|   45|          0|                0|        43|           1|         3|               3|               1|            40|           0|         0|               0|         3|        39|              0|    0|             0.0|        0.0|          0.0|        1.0|\n",
      "|0.304853|   12|    6|  4142|   268|  55.764583| 254| 252|99641.46875|5878.243164|    3|    1| 25.948818| 53.668801|1471.649189|  80.404844| 255| 137150292|2604092885| 255|0.097761|0.036508|0.061253|  345|   45|          0|                0|        11|           1|         1|               1|               1|             3|           0|         0|               0|         1|         6|              0|    0|             0.0|        0.0|          0.0|        1.0|\n",
      "|2.093085|   62|   28| 56329|  2212|  42.520967|  62| 252| 211825.125|8152.559082|   28|    8| 34.312868| 75.092445|3253.278833| 106.113453| 255|1824722662| 860716719| 255| 0.13114|0.052852|0.078288|  909|   79|          0|                0|         2|           1|         1|               1|               1|             2|           0|         0|               0|         1|         1|              0|    0|             0.0|        0.0|          3.0|        1.0|\n",
      "|0.416952|   10|    6|   534|   268|  35.975363| 254| 252|9228.879883|4297.856445|    2|    1| 45.088778| 64.481199|2610.908343|  99.860875| 255|  88408021|3711983528| 255|0.220976|0.094537|0.126439|   53|   45|          0|                0|        43|           1|         1|               1|               1|            40|           0|         0|               0|         1|        39|              0|    0|             0.0|        0.0|          0.0|        1.0|\n",
      "|0.996221|   10|    8|   564|   354|  17.064487| 254| 252|4079.416016|2489.407471|    2|    1|110.691222|    131.48|6542.815197| 202.433047| 255|2321780530|2975132930| 255|0.169226| 0.07516|0.094066|   56|   44|          0|                0|        11|           1|         1|               1|               1|             3|           0|         0|               0|         2|         3|              0|    0|             0.0|        0.0|          0.0|        1.0|\n",
      "|0.576755|   10|    8|   534|   354|  29.475254| 254| 252|6671.810547|4299.919434|    2|    1| 64.083889|  72.27157|4194.544962| 116.493234| 255|3772251972|4281731981| 255|0.113311|0.050849|0.062462|   53|   44|          0|                0|        43|           1|         1|               1|               1|            40|           0|         0|               0|         1|        39|              0|    0|             0.0|        0.0|          0.0|        1.0|\n",
      "|  2.0E-6|    2|    0|   138|     0|500000.0013| 254|   0|     2.76E8|        0.0|    0|    0|     0.002|       0.0|        0.0|        0.0|   0|         0|         0|   0|     0.0|     0.0|     0.0|   69|    0|          0|                0|         1|           2|         1|               1|               1|             4|           0|         0|               0|         2|         1|              0|    0|             0.0|        1.0|          9.0|        0.0|\n",
      "|0.728252|   10|    6|   534|   268|  20.597266| 254| 252|5283.885254|2460.686768|    2|    1| 80.916889|122.462203|5333.802207| 231.801797| 255|1735938977|4242381139| 255|0.134571|0.079982|0.054589|   53|   45|          0|                0|        43|           1|         2|               2|               1|            40|           0|         0|               0|         2|        39|              0|    0|             0.0|        0.0|          0.0|        1.0|\n",
      "|0.393556|   10|    8|   860|  1096|  43.195886|  62| 252|15733.46582|19494.04883|    2|    2| 43.728444| 47.669145|2124.837873|  71.805867| 255|3882971404|3084071099| 255|0.120313|0.059201|0.061112|   86|  137|          1|              103|         3|           1|         1|               1|               1|             2|           0|         0|               1|         1|         3|              0|    0|             0.0|        0.0|          2.0|        1.0|\n",
      "|0.387852|   10|    6|   534|   268|  38.674545| 254| 252| 9921.30957|4620.318848|    2|    1| 38.119667| 68.279203|2226.182762| 105.440859| 255| 527350728|2602577308| 255|0.115979|0.046445|0.069534|   53|   45|          0|                0|        43|           1|         2|               2|               1|            40|           0|         0|               0|         2|        39|              0|    0|             0.0|        0.0|          0.0|        1.0|\n",
      "| 0.53784|   10|    8|   534|   354|  31.607913| 254| 252|7154.543945|4611.036621|    2|    1| 59.669444| 68.351859|3893.395914| 104.835672| 255|1082242371| 490886647| 255|0.114569|0.059368|0.055201|   53|   44|          0|                0|        43|           1|         2|               2|               1|            40|           0|         0|               0|         2|        39|              0|    0|             0.0|        0.0|          0.0|        1.0|\n",
      "+--------+-----+-----+------+------+-----------+----+----+-----------+-----------+-----+-----+----------+----------+-----------+-----------+----+----------+----------+----+--------+--------+--------+-----+-----+-----------+-----------------+----------+------------+----------+----------------+----------------+--------------+------------+----------+----------------+----------+----------+---------------+-----+----------------+-----------+-------------+-----------+\n",
      "only showing top 20 rows\n",
      "\n"
     ]
    }
   ],
   "source": [
    "df_test_indexed.show()"
   ]
  },
  {
   "cell_type": "code",
   "execution_count": 22,
   "id": "7d998b7a",
   "metadata": {},
   "outputs": [
    {
     "name": "stderr",
     "output_type": "stream",
     "text": [
      "\r",
      "[Stage 27:==============>                                           (2 + 6) / 8]\r",
      "\r",
      "                                                                                \r"
     ]
    }
   ],
   "source": [
    "df_train_indexed = df_train_indexed.toPandas()\n",
    "df_test_indexed = df_test_indexed.toPandas()"
   ]
  },
  {
   "cell_type": "code",
   "execution_count": 23,
   "id": "ec16a102",
   "metadata": {},
   "outputs": [
    {
     "data": {
      "text/html": [
       "<div>\n",
       "<style scoped>\n",
       "    .dataframe tbody tr th:only-of-type {\n",
       "        vertical-align: middle;\n",
       "    }\n",
       "\n",
       "    .dataframe tbody tr th {\n",
       "        vertical-align: top;\n",
       "    }\n",
       "\n",
       "    .dataframe thead th {\n",
       "        text-align: right;\n",
       "    }\n",
       "</style>\n",
       "<table border=\"1\" class=\"dataframe\">\n",
       "  <thead>\n",
       "    <tr style=\"text-align: right;\">\n",
       "      <th></th>\n",
       "      <th>dur</th>\n",
       "      <th>spkts</th>\n",
       "      <th>dpkts</th>\n",
       "      <th>sbytes</th>\n",
       "      <th>dbytes</th>\n",
       "      <th>rate</th>\n",
       "      <th>sttl</th>\n",
       "      <th>dttl</th>\n",
       "      <th>sload</th>\n",
       "      <th>dload</th>\n",
       "      <th>...</th>\n",
       "      <th>ct_ftp_cmd</th>\n",
       "      <th>ct_flw_http_mthd</th>\n",
       "      <th>ct_src_ltm</th>\n",
       "      <th>ct_srv_dst</th>\n",
       "      <th>is_sm_ips_ports</th>\n",
       "      <th>label</th>\n",
       "      <th>attack_cat_index</th>\n",
       "      <th>proto_index</th>\n",
       "      <th>service_index</th>\n",
       "      <th>state_index</th>\n",
       "    </tr>\n",
       "  </thead>\n",
       "  <tbody>\n",
       "    <tr>\n",
       "      <th>0</th>\n",
       "      <td>0.000011</td>\n",
       "      <td>2</td>\n",
       "      <td>0</td>\n",
       "      <td>496</td>\n",
       "      <td>0</td>\n",
       "      <td>90909.0902</td>\n",
       "      <td>254</td>\n",
       "      <td>0</td>\n",
       "      <td>180363632.0</td>\n",
       "      <td>0.0</td>\n",
       "      <td>...</td>\n",
       "      <td>0</td>\n",
       "      <td>0</td>\n",
       "      <td>1</td>\n",
       "      <td>2</td>\n",
       "      <td>0</td>\n",
       "      <td>0</td>\n",
       "      <td>0.0</td>\n",
       "      <td>1.0</td>\n",
       "      <td>0.0</td>\n",
       "      <td>1.0</td>\n",
       "    </tr>\n",
       "    <tr>\n",
       "      <th>1</th>\n",
       "      <td>0.000008</td>\n",
       "      <td>2</td>\n",
       "      <td>0</td>\n",
       "      <td>1762</td>\n",
       "      <td>0</td>\n",
       "      <td>125000.0003</td>\n",
       "      <td>254</td>\n",
       "      <td>0</td>\n",
       "      <td>881000000.0</td>\n",
       "      <td>0.0</td>\n",
       "      <td>...</td>\n",
       "      <td>0</td>\n",
       "      <td>0</td>\n",
       "      <td>1</td>\n",
       "      <td>2</td>\n",
       "      <td>0</td>\n",
       "      <td>0</td>\n",
       "      <td>0.0</td>\n",
       "      <td>1.0</td>\n",
       "      <td>0.0</td>\n",
       "      <td>1.0</td>\n",
       "    </tr>\n",
       "    <tr>\n",
       "      <th>2</th>\n",
       "      <td>0.000005</td>\n",
       "      <td>2</td>\n",
       "      <td>0</td>\n",
       "      <td>1068</td>\n",
       "      <td>0</td>\n",
       "      <td>200000.0051</td>\n",
       "      <td>254</td>\n",
       "      <td>0</td>\n",
       "      <td>854400000.0</td>\n",
       "      <td>0.0</td>\n",
       "      <td>...</td>\n",
       "      <td>0</td>\n",
       "      <td>0</td>\n",
       "      <td>1</td>\n",
       "      <td>3</td>\n",
       "      <td>0</td>\n",
       "      <td>0</td>\n",
       "      <td>0.0</td>\n",
       "      <td>1.0</td>\n",
       "      <td>0.0</td>\n",
       "      <td>1.0</td>\n",
       "    </tr>\n",
       "    <tr>\n",
       "      <th>3</th>\n",
       "      <td>0.000006</td>\n",
       "      <td>2</td>\n",
       "      <td>0</td>\n",
       "      <td>900</td>\n",
       "      <td>0</td>\n",
       "      <td>166666.6608</td>\n",
       "      <td>254</td>\n",
       "      <td>0</td>\n",
       "      <td>600000000.0</td>\n",
       "      <td>0.0</td>\n",
       "      <td>...</td>\n",
       "      <td>0</td>\n",
       "      <td>0</td>\n",
       "      <td>2</td>\n",
       "      <td>3</td>\n",
       "      <td>0</td>\n",
       "      <td>0</td>\n",
       "      <td>0.0</td>\n",
       "      <td>1.0</td>\n",
       "      <td>0.0</td>\n",
       "      <td>1.0</td>\n",
       "    </tr>\n",
       "    <tr>\n",
       "      <th>4</th>\n",
       "      <td>0.000010</td>\n",
       "      <td>2</td>\n",
       "      <td>0</td>\n",
       "      <td>2126</td>\n",
       "      <td>0</td>\n",
       "      <td>100000.0025</td>\n",
       "      <td>254</td>\n",
       "      <td>0</td>\n",
       "      <td>850400000.0</td>\n",
       "      <td>0.0</td>\n",
       "      <td>...</td>\n",
       "      <td>0</td>\n",
       "      <td>0</td>\n",
       "      <td>2</td>\n",
       "      <td>3</td>\n",
       "      <td>0</td>\n",
       "      <td>0</td>\n",
       "      <td>0.0</td>\n",
       "      <td>1.0</td>\n",
       "      <td>0.0</td>\n",
       "      <td>1.0</td>\n",
       "    </tr>\n",
       "  </tbody>\n",
       "</table>\n",
       "<p>5 rows × 44 columns</p>\n",
       "</div>"
      ],
      "text/plain": [
       "        dur  spkts  dpkts  sbytes  dbytes         rate  sttl  dttl  \\\n",
       "0  0.000011      2      0     496       0   90909.0902   254     0   \n",
       "1  0.000008      2      0    1762       0  125000.0003   254     0   \n",
       "2  0.000005      2      0    1068       0  200000.0051   254     0   \n",
       "3  0.000006      2      0     900       0  166666.6608   254     0   \n",
       "4  0.000010      2      0    2126       0  100000.0025   254     0   \n",
       "\n",
       "         sload  dload  ...  ct_ftp_cmd  ct_flw_http_mthd  ct_src_ltm  \\\n",
       "0  180363632.0    0.0  ...           0                 0           1   \n",
       "1  881000000.0    0.0  ...           0                 0           1   \n",
       "2  854400000.0    0.0  ...           0                 0           1   \n",
       "3  600000000.0    0.0  ...           0                 0           2   \n",
       "4  850400000.0    0.0  ...           0                 0           2   \n",
       "\n",
       "   ct_srv_dst  is_sm_ips_ports  label  attack_cat_index  proto_index  \\\n",
       "0           2                0      0               0.0          1.0   \n",
       "1           2                0      0               0.0          1.0   \n",
       "2           3                0      0               0.0          1.0   \n",
       "3           3                0      0               0.0          1.0   \n",
       "4           3                0      0               0.0          1.0   \n",
       "\n",
       "   service_index  state_index  \n",
       "0            0.0          1.0  \n",
       "1            0.0          1.0  \n",
       "2            0.0          1.0  \n",
       "3            0.0          1.0  \n",
       "4            0.0          1.0  \n",
       "\n",
       "[5 rows x 44 columns]"
      ]
     },
     "execution_count": 23,
     "metadata": {},
     "output_type": "execute_result"
    }
   ],
   "source": [
    "df_train_indexed.head()"
   ]
  },
  {
   "cell_type": "code",
   "execution_count": 24,
   "id": "30073211",
   "metadata": {},
   "outputs": [
    {
     "data": {
      "text/html": [
       "<div>\n",
       "<style scoped>\n",
       "    .dataframe tbody tr th:only-of-type {\n",
       "        vertical-align: middle;\n",
       "    }\n",
       "\n",
       "    .dataframe tbody tr th {\n",
       "        vertical-align: top;\n",
       "    }\n",
       "\n",
       "    .dataframe thead th {\n",
       "        text-align: right;\n",
       "    }\n",
       "</style>\n",
       "<table border=\"1\" class=\"dataframe\">\n",
       "  <thead>\n",
       "    <tr style=\"text-align: right;\">\n",
       "      <th></th>\n",
       "      <th>dur</th>\n",
       "      <th>spkts</th>\n",
       "      <th>dpkts</th>\n",
       "      <th>sbytes</th>\n",
       "      <th>dbytes</th>\n",
       "      <th>rate</th>\n",
       "      <th>sttl</th>\n",
       "      <th>dttl</th>\n",
       "      <th>sload</th>\n",
       "      <th>dload</th>\n",
       "      <th>...</th>\n",
       "      <th>ct_ftp_cmd</th>\n",
       "      <th>ct_flw_http_mthd</th>\n",
       "      <th>ct_src_ltm</th>\n",
       "      <th>ct_srv_dst</th>\n",
       "      <th>is_sm_ips_ports</th>\n",
       "      <th>label</th>\n",
       "      <th>attack_cat_index</th>\n",
       "      <th>proto_index</th>\n",
       "      <th>service_index</th>\n",
       "      <th>state_index</th>\n",
       "    </tr>\n",
       "  </thead>\n",
       "  <tbody>\n",
       "    <tr>\n",
       "      <th>0</th>\n",
       "      <td>0.121478</td>\n",
       "      <td>6</td>\n",
       "      <td>4</td>\n",
       "      <td>258</td>\n",
       "      <td>172</td>\n",
       "      <td>74.087490</td>\n",
       "      <td>252</td>\n",
       "      <td>254</td>\n",
       "      <td>14158.942380</td>\n",
       "      <td>8495.365234</td>\n",
       "      <td>...</td>\n",
       "      <td>0</td>\n",
       "      <td>0</td>\n",
       "      <td>1</td>\n",
       "      <td>1</td>\n",
       "      <td>0</td>\n",
       "      <td>0</td>\n",
       "      <td>0.0</td>\n",
       "      <td>0.0</td>\n",
       "      <td>0.0</td>\n",
       "      <td>1.0</td>\n",
       "    </tr>\n",
       "    <tr>\n",
       "      <th>1</th>\n",
       "      <td>0.649902</td>\n",
       "      <td>14</td>\n",
       "      <td>38</td>\n",
       "      <td>734</td>\n",
       "      <td>42014</td>\n",
       "      <td>78.473372</td>\n",
       "      <td>62</td>\n",
       "      <td>252</td>\n",
       "      <td>8395.112305</td>\n",
       "      <td>503571.312500</td>\n",
       "      <td>...</td>\n",
       "      <td>0</td>\n",
       "      <td>0</td>\n",
       "      <td>1</td>\n",
       "      <td>6</td>\n",
       "      <td>0</td>\n",
       "      <td>0</td>\n",
       "      <td>0.0</td>\n",
       "      <td>0.0</td>\n",
       "      <td>0.0</td>\n",
       "      <td>1.0</td>\n",
       "    </tr>\n",
       "    <tr>\n",
       "      <th>2</th>\n",
       "      <td>1.623129</td>\n",
       "      <td>8</td>\n",
       "      <td>16</td>\n",
       "      <td>364</td>\n",
       "      <td>13186</td>\n",
       "      <td>14.170161</td>\n",
       "      <td>62</td>\n",
       "      <td>252</td>\n",
       "      <td>1572.271851</td>\n",
       "      <td>60929.230470</td>\n",
       "      <td>...</td>\n",
       "      <td>0</td>\n",
       "      <td>0</td>\n",
       "      <td>2</td>\n",
       "      <td>6</td>\n",
       "      <td>0</td>\n",
       "      <td>0</td>\n",
       "      <td>0.0</td>\n",
       "      <td>0.0</td>\n",
       "      <td>0.0</td>\n",
       "      <td>1.0</td>\n",
       "    </tr>\n",
       "    <tr>\n",
       "      <th>3</th>\n",
       "      <td>1.681642</td>\n",
       "      <td>12</td>\n",
       "      <td>12</td>\n",
       "      <td>628</td>\n",
       "      <td>770</td>\n",
       "      <td>13.677108</td>\n",
       "      <td>62</td>\n",
       "      <td>252</td>\n",
       "      <td>2740.178955</td>\n",
       "      <td>3358.622070</td>\n",
       "      <td>...</td>\n",
       "      <td>1</td>\n",
       "      <td>0</td>\n",
       "      <td>2</td>\n",
       "      <td>1</td>\n",
       "      <td>0</td>\n",
       "      <td>0</td>\n",
       "      <td>0.0</td>\n",
       "      <td>0.0</td>\n",
       "      <td>5.0</td>\n",
       "      <td>1.0</td>\n",
       "    </tr>\n",
       "    <tr>\n",
       "      <th>4</th>\n",
       "      <td>0.449454</td>\n",
       "      <td>10</td>\n",
       "      <td>6</td>\n",
       "      <td>534</td>\n",
       "      <td>268</td>\n",
       "      <td>33.373826</td>\n",
       "      <td>254</td>\n",
       "      <td>252</td>\n",
       "      <td>8561.499023</td>\n",
       "      <td>3987.059814</td>\n",
       "      <td>...</td>\n",
       "      <td>0</td>\n",
       "      <td>0</td>\n",
       "      <td>2</td>\n",
       "      <td>39</td>\n",
       "      <td>0</td>\n",
       "      <td>0</td>\n",
       "      <td>0.0</td>\n",
       "      <td>0.0</td>\n",
       "      <td>0.0</td>\n",
       "      <td>1.0</td>\n",
       "    </tr>\n",
       "  </tbody>\n",
       "</table>\n",
       "<p>5 rows × 44 columns</p>\n",
       "</div>"
      ],
      "text/plain": [
       "        dur  spkts  dpkts  sbytes  dbytes       rate  sttl  dttl  \\\n",
       "0  0.121478      6      4     258     172  74.087490   252   254   \n",
       "1  0.649902     14     38     734   42014  78.473372    62   252   \n",
       "2  1.623129      8     16     364   13186  14.170161    62   252   \n",
       "3  1.681642     12     12     628     770  13.677108    62   252   \n",
       "4  0.449454     10      6     534     268  33.373826   254   252   \n",
       "\n",
       "          sload          dload  ...  ct_ftp_cmd  ct_flw_http_mthd  ct_src_ltm  \\\n",
       "0  14158.942380    8495.365234  ...           0                 0           1   \n",
       "1   8395.112305  503571.312500  ...           0                 0           1   \n",
       "2   1572.271851   60929.230470  ...           0                 0           2   \n",
       "3   2740.178955    3358.622070  ...           1                 0           2   \n",
       "4   8561.499023    3987.059814  ...           0                 0           2   \n",
       "\n",
       "   ct_srv_dst  is_sm_ips_ports  label  attack_cat_index  proto_index  \\\n",
       "0           1                0      0               0.0          0.0   \n",
       "1           6                0      0               0.0          0.0   \n",
       "2           6                0      0               0.0          0.0   \n",
       "3           1                0      0               0.0          0.0   \n",
       "4          39                0      0               0.0          0.0   \n",
       "\n",
       "   service_index  state_index  \n",
       "0            0.0          1.0  \n",
       "1            0.0          1.0  \n",
       "2            0.0          1.0  \n",
       "3            5.0          1.0  \n",
       "4            0.0          1.0  \n",
       "\n",
       "[5 rows x 44 columns]"
      ]
     },
     "execution_count": 24,
     "metadata": {},
     "output_type": "execute_result"
    }
   ],
   "source": [
    "df_test_indexed.head()"
   ]
  },
  {
   "cell_type": "code",
   "execution_count": 25,
   "id": "bbb9ef0e",
   "metadata": {
    "scrolled": false
   },
   "outputs": [
    {
     "name": "stdout",
     "output_type": "stream",
     "text": [
      "attack_cat_index: [0. 5. 7. 4. 2. 6. 3. 9. 8. 1.]\n",
      "attack_cat_index: [0. 7. 6. 3. 8. 5. 2. 4. 9. 1.]\n",
      "\n",
      "proto_index: [  1.   3.   0. 130.   4.   5.   7.  25.  28.  29.  38.  19.  21.  23.\n",
      "  24.  35.  36.  41.  33.  22.  26.  17.  39.  40.  18.  16.  32.  30.\n",
      "  37.  34.  87.  86.  42.  66.  55.  67. 117.   9. 105.  76.  79.  68.\n",
      "  88.  64. 100.  12.  91. 107. 116.  77.   6.  78.  49. 101.  75.  83.\n",
      " 102.  52. 126.  98.  48.  11. 125. 122. 118. 120.  92.  57.  58. 115.\n",
      " 111.  85.  90.  46.  73.  44.  89.  59.  96.  63.  69.  95.  99. 104.\n",
      "  20.  15.  27.  47.  14. 121.  72.  51.  31. 124.  10. 106. 127.  70.\n",
      "   8.   2.  61.  82.  60.  13.  45.  43.  71. 110.  50.  80.  93. 123.\n",
      "  84. 128.  56.  65. 114. 113. 119. 108. 109.  81.  97.  62.  53.  54.\n",
      " 103.  74.  94. 112. 129.]\n",
      "proto_index: [  0.   1.   3.   4. 131. 130. 132.  28.  49.  23.  99.  71.  97.  63.\n",
      "  69.  75.  25.  11.  55. 100.  43.   2.  60.  16.  52.  41.  21.  12.\n",
      "  56.  26.  13.  98.  95.  15.  30.  31.  20.  36.  68.  14.  66.  40.\n",
      " 101.  73.   9.  64.  34.  67.  44.  50.  74.  51.  83.  45.  22.  91.\n",
      "  88.  65.  84.  18.  76.   5.  72.  77.  33.  19.  10.  24.  96.  38.\n",
      "  87.  57.  86.  81.  54.  82.  35.  70. 104.  85.  59.  39.  80.   6.\n",
      "  58.  46.  62.  32.  42.  90.  17.   8.  37.  53.  78.  89.   7.  61.\n",
      "  29.  48.  94.  79.  92.  93.  27.  47. 107. 109. 110. 119. 124. 125.\n",
      " 126. 106. 108. 116. 118. 122. 103. 115. 105. 127. 117. 120. 123. 113.\n",
      " 114. 129. 111. 112. 128. 121. 102.]\n",
      "\n",
      "service_index: [ 0.  2.  4.  5.  3.  6.  1.  9.  8. 10. 12. 11.  7.]\n",
      "service_index: [ 0.  5.  3.  9.  2.  4.  1.  6. 12.  7.  8. 10. 11.]\n",
      "\n",
      "state_index: [1. 0. 3. 4. 2. 6. 5.]\n",
      "state_index: [1. 0. 2. 5. 3. 4. 6. 7. 8.]\n"
     ]
    }
   ],
   "source": [
    "# to check the number of unique values corresponds to the original column\n",
    "print(\"attack_cat_index:\", df_train_indexed['attack_cat_index'].unique())\n",
    "print(\"attack_cat_index:\", df_test_indexed['attack_cat_index'].unique())\n",
    "\n",
    "print(\"\\nproto_index:\", df_train_indexed['proto_index'].unique())\n",
    "print(\"proto_index:\", df_test_indexed['proto_index'].unique())\n",
    "\n",
    "print(\"\\nservice_index:\", df_train_indexed['service_index'].unique())\n",
    "print(\"service_index:\", df_test_indexed['service_index'].unique())\n",
    "\n",
    "print(\"\\nstate_index:\", df_train_indexed['state_index'].unique())\n",
    "print(\"state_index:\", df_test_indexed['state_index'].unique())"
   ]
  },
  {
   "cell_type": "markdown",
   "id": "8a96b4c4",
   "metadata": {},
   "source": [
    "**Checking correlation and selecting top 10 columns**"
   ]
  },
  {
   "cell_type": "code",
   "execution_count": 26,
   "id": "f0bb69f3",
   "metadata": {
    "scrolled": false
   },
   "outputs": [
    {
     "data": {
      "image/png": "[encoded data removed]",
      "text/plain": [
       "<Figure size 72x1080 with 2 Axes>"
      ]
     },
     "metadata": {},
     "output_type": "display_data"
    }
   ],
   "source": [
    "# Visualize the correlation of all columns\n",
    "plt.figure(figsize=(1,15))\n",
    "heatmap = sns.heatmap(df_train_indexed.corr()[['label']].abs().sort_values #abs() to get absolute value regardless of negative correlation\n",
    "                     (by='label', ascending=False), vmin=-1,\n",
    "                      vmax=1, annot=True, cmap='YlGnBu')\n",
    "\n",
    "heatmap.set_title('Features Correlating with Label',\n",
    "                  fontdict={'fontsize':15}, pad=14)\n",
    "\n",
    "plt.show()"
   ]
  },
  {
   "cell_type": "code",
   "execution_count": 27,
   "id": "7309d372",
   "metadata": {},
   "outputs": [
    {
     "data": {
      "text/plain": [
       "dtcpb               0.282860\n",
       "ct_srv_src          0.290195\n",
       "ct_srv_dst          0.292931\n",
       "ct_state_ttl        0.318517\n",
       "rate                0.328629\n",
       "ct_src_dport_ltm    0.341513\n",
       "dwin                0.369257\n",
       "ct_dst_sport_ltm    0.393668\n",
       "swin                0.414504\n",
       "sttl                0.504159\n",
       "label               1.000000\n",
       "Name: label, dtype: float64"
      ]
     },
     "execution_count": 27,
     "metadata": {},
     "output_type": "execute_result"
    }
   ],
   "source": [
    "# 10 selected columns (highest correlation to label)\n",
    "df10_train = pd.DataFrame(df_train_indexed,columns=['sttl', 'swin', 'ct_dst_sport_ltm', 'dwin', \n",
    "                                                    'ct_src_dport_ltm', 'rate', 'ct_state_ttl', \n",
    "                                                    'ct_srv_dst', 'ct_srv_src', 'dtcpb', 'label'])\n",
    "\n",
    "df10_test = pd.DataFrame(df_train_indexed,columns=['sttl', 'swin', 'ct_dst_sport_ltm', 'dwin', \n",
    "                                                    'ct_src_dport_ltm', 'rate', 'ct_state_ttl', \n",
    "                                                    'ct_srv_dst', 'ct_srv_src', 'dtcpb', 'label'])\n",
    "\n",
    "# return correlation matrix of df20\n",
    "corr = df10_train.corr()\n",
    "corr = corr['label'].abs().sort_values()\n",
    "corr"
   ]
  },
  {
   "cell_type": "code",
   "execution_count": 28,
   "id": "9bc529b4",
   "metadata": {},
   "outputs": [
    {
     "data": {
      "image/png": "[encoded data removed]",
      "text/plain": [
       "<Figure size 1800x1080 with 2 Axes>"
      ]
     },
     "metadata": {},
     "output_type": "display_data"
    }
   ],
   "source": [
    "# visualize the correlation of all columns in df2\n",
    "plt.figure(figsize=(25,15))\n",
    "\n",
    "# using heapmap to plot\n",
    "sns.heatmap(round(df10_train.corr(), 2), annot=True)\n",
    "\n",
    "# show the plot\n",
    "plt.show()"
   ]
  },
  {
   "cell_type": "markdown",
   "id": "90370114",
   "metadata": {},
   "source": [
    "**Z-Score Normalization**"
   ]
  },
  {
   "cell_type": "code",
   "execution_count": 29,
   "id": "d0bb56d9",
   "metadata": {},
   "outputs": [
    {
     "name": "stderr",
     "output_type": "stream",
     "text": [
      "                                                                                \r"
     ]
    }
   ],
   "source": [
    "# convert from pandas to spark for normalization\n",
    "df10_train_py = spark.createDataFrame(df10_train)\n",
    "df10_test_py = spark.createDataFrame(df10_test)\n",
    "\n",
    "# function for z-score normalization\n",
    "def z_score_normalize(dataset: DataFrame, feature_columns: list) -> DataFrame:\n",
    "    # assemble features into a vector column\n",
    "    assembler = VectorAssembler(inputCols=feature_columns, outputCol=\"features\")\n",
    "    df_with_features = assembler.transform(dataset)\n",
    "\n",
    "    # z-score normalization using StandardScaler\n",
    "    z_scaler = StandardScaler(inputCol=\"features\", outputCol=\"z_scaled_features\", withMean=True, withStd=True)\n",
    "    z_scaler_model = z_scaler.fit(df_with_features)\n",
    "    z_normalized_df = z_scaler_model.transform(df_with_features)\n",
    "    \n",
    "    return z_normalized_df\n",
    "\n",
    "# all columns except 'label'\n",
    "feature_columns = ['sttl', 'swin', 'ct_dst_sport_ltm', \n",
    "                   'dwin', 'ct_src_dport_ltm', 'rate', 'ct_state_ttl', \n",
    "                   'ct_srv_dst', 'ct_srv_src', 'dtcpb']\n",
    "train_data = z_score_normalize(df10_train_py, feature_columns)\n",
    "test_data = z_score_normalize(df10_test_py, feature_columns)"
   ]
  },
  {
   "cell_type": "code",
   "execution_count": 30,
   "id": "34d68e1a",
   "metadata": {},
   "outputs": [
    {
     "name": "stdout",
     "output_type": "stream",
     "text": [
      "+---------------------------------------------------+----------------------------------------------------------------------------------------------------------------------------------------------------------------------------------------------------------+\n",
      "|features                                           |z_scaled_features                                                                                                                                                                                         |\n",
      "+---------------------------------------------------+----------------------------------------------------------------------------------------------------------------------------------------------------------------------------------------------------------+\n",
      "|[254.0,0.0,1.0,0.0,1.0,90909.0902,2.0,2.0,2.0,0.0] |[0.7194356910787414,-1.0479131934078003,-0.4501837608631865,-1.0062376768714802,-0.4683087717050059,0.05718061144722471,0.5910174773111673,-0.6441862671743399,-0.6804695804757784,-0.7767493695488499]   |\n",
      "|[254.0,0.0,1.0,0.0,1.0,125000.0003,2.0,2.0,2.0,0.0]|[0.7194356910787414,-1.0479131934078003,-0.4501837608631865,-1.0062376768714802,-0.4683087717050059,0.2865631030857324,0.5910174773111673,-0.6441862671743399,-0.6804695804757784,-0.7767493695488499]    |\n",
      "|[254.0,0.0,1.0,0.0,1.0,200000.0051,2.0,3.0,3.0,0.0]|[0.7194356910787414,-1.0479131934078003,-0.4501837608631865,-1.0062376768714802,-0.4683087717050059,0.791204602050116,0.5910174773111673,-0.554269638230955,-0.5903006010177285,-0.7767493695488499]      |\n",
      "|[254.0,0.0,1.0,0.0,2.0,166666.6608,2.0,3.0,3.0,0.0]|[0.7194356910787414,-1.0479131934078003,-0.4501837608631865,-1.0062376768714802,-0.34911279987414284,0.5669194319637284,0.5910174773111673,-0.554269638230955,-0.5903006010177285,-0.7767493695488499]    |\n",
      "|[254.0,0.0,1.0,0.0,2.0,100000.0025,2.0,3.0,3.0,0.0]|[0.7194356910787414,-1.0479131934078003,-0.4501837608631865,-1.0062376768714802,-0.34911279987414284,0.11834929566610558,0.5910174773111673,-0.554269638230955,-0.5903006010177285,-0.7767493695488499]   |\n",
      "|[254.0,0.0,1.0,0.0,2.0,333333.3215,2.0,2.0,2.0,0.0]|[0.7194356910787414,-1.0479131934078003,-0.4501837608631865,-1.0062376768714802,-0.34911279987414284,1.6883448732996509,0.5910174773111673,-0.6441862671743399,-0.6804695804757784,-0.7767493695488499]   |\n",
      "|[254.0,0.0,1.0,0.0,2.0,166666.6608,2.0,2.0,2.0,0.0]|[0.7194356910787414,-1.0479131934078003,-0.4501837608631865,-1.0062376768714802,-0.34911279987414284,0.5669194319637284,0.5910174773111673,-0.6441862671743399,-0.6804695804757784,-0.7767493695488499]   |\n",
      "|[254.0,0.0,1.0,0.0,1.0,35714.28522,2.0,3.0,3.0,0.0]|[0.7194356910787414,-1.0479131934078003,-0.4501837608631865,-1.0062376768714802,-0.4683087717050059,-0.3142005530531011,0.5910174773111673,-0.554269638230955,-0.5903006010177285,-0.7767493695488499]    |\n",
      "|(10,[2,4,6,7,8],[2.0,2.0,2.0,2.0,2.0])             |[-1.7826980798159797,-1.0479131934078003,-0.28113308652469915,-1.0062376768714802,-0.34911279987414284,-0.5545060100450495,0.5910174773111673,-0.6441862671743399,-0.6804695804757784,-0.7767493695488499]|\n",
      "|(10,[2,4,6,7,8],[2.0,2.0,2.0,2.0,2.0])             |[-1.7826980798159797,-1.0479131934078003,-0.28113308652469915,-1.0062376768714802,-0.34911279987414284,-0.5545060100450495,0.5910174773111673,-0.6441862671743399,-0.6804695804757784,-0.7767493695488499]|\n",
      "|(10,[2,4,6,7,8],[2.0,2.0,2.0,2.0,2.0])             |[-1.7826980798159797,-1.0479131934078003,-0.28113308652469915,-1.0062376768714802,-0.34911279987414284,-0.5545060100450495,0.5910174773111673,-0.6441862671743399,-0.6804695804757784,-0.7767493695488499]|\n",
      "|(10,[2,4,6,7,8],[2.0,2.0,2.0,2.0,2.0])             |[-1.7826980798159797,-1.0479131934078003,-0.28113308652469915,-1.0062376768714802,-0.34911279987414284,-0.5545060100450495,0.5910174773111673,-0.6441862671743399,-0.6804695804757784,-0.7767493695488499]|\n",
      "|[254.0,0.0,1.0,0.0,1.0,250000.0006,2.0,3.0,3.0,0.0]|[0.7194356910787414,-1.0479131934078003,-0.4501837608631865,-1.0062376768714802,-0.4683087717050059,1.1276322162165142,0.5910174773111673,-0.554269638230955,-0.5903006010177285,-0.7767493695488499]     |\n",
      "|[254.0,0.0,1.0,0.0,1.0,142857.1409,2.0,3.0,3.0,0.0]|[0.7194356910787414,-1.0479131934078003,-0.4501837608631865,-1.0062376768714802,-0.4683087717050059,0.4067158180573153,0.5910174773111673,-0.554269638230955,-0.5903006010177285,-0.7767493695488499]     |\n",
      "|[254.0,0.0,1.0,0.0,1.0,90909.0902,2.0,1.0,1.0,0.0] |[0.7194356910787414,-1.0479131934078003,-0.4501837608631865,-1.0062376768714802,-0.4683087717050059,0.05718061144722471,0.5910174773111673,-0.7341028961177248,-0.7706385599338283,-0.7767493695488499]   |\n",
      "|[254.0,0.0,1.0,0.0,1.0,250000.0006,2.0,3.0,3.0,0.0]|[0.7194356910787414,-1.0479131934078003,-0.4501837608631865,-1.0062376768714802,-0.4683087717050059,1.1276322162165142,0.5910174773111673,-0.554269638230955,-0.5903006010177285,-0.7767493695488499]     |\n",
      "|[254.0,0.0,1.0,0.0,1.0,333333.3215,2.0,2.0,2.0,0.0]|[0.7194356910787414,-1.0479131934078003,-0.4501837608631865,-1.0062376768714802,-0.4683087717050059,1.6883448732996509,0.5910174773111673,-0.6441862671743399,-0.6804695804757784,-0.7767493695488499]    |\n",
      "|[254.0,0.0,1.0,0.0,1.0,100000.0025,2.0,2.0,2.0,0.0]|[0.7194356910787414,-1.0479131934078003,-0.4501837608631865,-1.0062376768714802,-0.4683087717050059,0.11834929566610558,0.5910174773111673,-0.6441862671743399,-0.6804695804757784,-0.7767493695488499]   |\n",
      "|[254.0,0.0,1.0,0.0,1.0,500000.0013,2.0,2.0,3.0,0.0]|[0.7194356910787414,-1.0479131934078003,-0.4501837608631865,-1.0062376768714802,-0.4683087717050059,2.8097704431509336,0.5910174773111673,-0.6441862671743399,-0.5903006010177285,-0.7767493695488499]    |\n",
      "|[254.0,0.0,1.0,0.0,1.0,250000.0006,2.0,2.0,3.0,0.0]|[0.7194356910787414,-1.0479131934078003,-0.4501837608631865,-1.0062376768714802,-0.4683087717050059,1.1276322162165142,0.5910174773111673,-0.6441862671743399,-0.5903006010177285,-0.7767493695488499]    |\n",
      "+---------------------------------------------------+----------------------------------------------------------------------------------------------------------------------------------------------------------------------------------------------------------+\n",
      "only showing top 20 rows\n",
      "\n"
     ]
    }
   ],
   "source": [
    "train_data.select(\"features\", \"z_scaled_features\").show(truncate=False)"
   ]
  },
  {
   "cell_type": "code",
   "execution_count": 31,
   "id": "992c94b3",
   "metadata": {},
   "outputs": [
    {
     "name": "stdout",
     "output_type": "stream",
     "text": [
      "+---------------------------------------------------+----------------------------------------------------------------------------------------------------------------------------------------------------------------------------------------------------------+\n",
      "|features                                           |z_scaled_features                                                                                                                                                                                         |\n",
      "+---------------------------------------------------+----------------------------------------------------------------------------------------------------------------------------------------------------------------------------------------------------------+\n",
      "|[254.0,0.0,1.0,0.0,1.0,90909.0902,2.0,2.0,2.0,0.0] |[0.7194356910787414,-1.0479131934078003,-0.4501837608631865,-1.0062376768714802,-0.4683087717050059,0.05718061144722471,0.5910174773111673,-0.6441862671743399,-0.6804695804757784,-0.7767493695488499]   |\n",
      "|[254.0,0.0,1.0,0.0,1.0,125000.0003,2.0,2.0,2.0,0.0]|[0.7194356910787414,-1.0479131934078003,-0.4501837608631865,-1.0062376768714802,-0.4683087717050059,0.2865631030857324,0.5910174773111673,-0.6441862671743399,-0.6804695804757784,-0.7767493695488499]    |\n",
      "|[254.0,0.0,1.0,0.0,1.0,200000.0051,2.0,3.0,3.0,0.0]|[0.7194356910787414,-1.0479131934078003,-0.4501837608631865,-1.0062376768714802,-0.4683087717050059,0.791204602050116,0.5910174773111673,-0.554269638230955,-0.5903006010177285,-0.7767493695488499]      |\n",
      "|[254.0,0.0,1.0,0.0,2.0,166666.6608,2.0,3.0,3.0,0.0]|[0.7194356910787414,-1.0479131934078003,-0.4501837608631865,-1.0062376768714802,-0.34911279987414284,0.5669194319637284,0.5910174773111673,-0.554269638230955,-0.5903006010177285,-0.7767493695488499]    |\n",
      "|[254.0,0.0,1.0,0.0,2.0,100000.0025,2.0,3.0,3.0,0.0]|[0.7194356910787414,-1.0479131934078003,-0.4501837608631865,-1.0062376768714802,-0.34911279987414284,0.11834929566610558,0.5910174773111673,-0.554269638230955,-0.5903006010177285,-0.7767493695488499]   |\n",
      "|[254.0,0.0,1.0,0.0,2.0,333333.3215,2.0,2.0,2.0,0.0]|[0.7194356910787414,-1.0479131934078003,-0.4501837608631865,-1.0062376768714802,-0.34911279987414284,1.6883448732996509,0.5910174773111673,-0.6441862671743399,-0.6804695804757784,-0.7767493695488499]   |\n",
      "|[254.0,0.0,1.0,0.0,2.0,166666.6608,2.0,2.0,2.0,0.0]|[0.7194356910787414,-1.0479131934078003,-0.4501837608631865,-1.0062376768714802,-0.34911279987414284,0.5669194319637284,0.5910174773111673,-0.6441862671743399,-0.6804695804757784,-0.7767493695488499]   |\n",
      "|[254.0,0.0,1.0,0.0,1.0,35714.28522,2.0,3.0,3.0,0.0]|[0.7194356910787414,-1.0479131934078003,-0.4501837608631865,-1.0062376768714802,-0.4683087717050059,-0.3142005530531011,0.5910174773111673,-0.554269638230955,-0.5903006010177285,-0.7767493695488499]    |\n",
      "|(10,[2,4,6,7,8],[2.0,2.0,2.0,2.0,2.0])             |[-1.7826980798159797,-1.0479131934078003,-0.28113308652469915,-1.0062376768714802,-0.34911279987414284,-0.5545060100450495,0.5910174773111673,-0.6441862671743399,-0.6804695804757784,-0.7767493695488499]|\n",
      "|(10,[2,4,6,7,8],[2.0,2.0,2.0,2.0,2.0])             |[-1.7826980798159797,-1.0479131934078003,-0.28113308652469915,-1.0062376768714802,-0.34911279987414284,-0.5545060100450495,0.5910174773111673,-0.6441862671743399,-0.6804695804757784,-0.7767493695488499]|\n",
      "|(10,[2,4,6,7,8],[2.0,2.0,2.0,2.0,2.0])             |[-1.7826980798159797,-1.0479131934078003,-0.28113308652469915,-1.0062376768714802,-0.34911279987414284,-0.5545060100450495,0.5910174773111673,-0.6441862671743399,-0.6804695804757784,-0.7767493695488499]|\n",
      "|(10,[2,4,6,7,8],[2.0,2.0,2.0,2.0,2.0])             |[-1.7826980798159797,-1.0479131934078003,-0.28113308652469915,-1.0062376768714802,-0.34911279987414284,-0.5545060100450495,0.5910174773111673,-0.6441862671743399,-0.6804695804757784,-0.7767493695488499]|\n",
      "|[254.0,0.0,1.0,0.0,1.0,250000.0006,2.0,3.0,3.0,0.0]|[0.7194356910787414,-1.0479131934078003,-0.4501837608631865,-1.0062376768714802,-0.4683087717050059,1.1276322162165142,0.5910174773111673,-0.554269638230955,-0.5903006010177285,-0.7767493695488499]     |\n",
      "|[254.0,0.0,1.0,0.0,1.0,142857.1409,2.0,3.0,3.0,0.0]|[0.7194356910787414,-1.0479131934078003,-0.4501837608631865,-1.0062376768714802,-0.4683087717050059,0.4067158180573153,0.5910174773111673,-0.554269638230955,-0.5903006010177285,-0.7767493695488499]     |\n",
      "|[254.0,0.0,1.0,0.0,1.0,90909.0902,2.0,1.0,1.0,0.0] |[0.7194356910787414,-1.0479131934078003,-0.4501837608631865,-1.0062376768714802,-0.4683087717050059,0.05718061144722471,0.5910174773111673,-0.7341028961177248,-0.7706385599338283,-0.7767493695488499]   |\n",
      "|[254.0,0.0,1.0,0.0,1.0,250000.0006,2.0,3.0,3.0,0.0]|[0.7194356910787414,-1.0479131934078003,-0.4501837608631865,-1.0062376768714802,-0.4683087717050059,1.1276322162165142,0.5910174773111673,-0.554269638230955,-0.5903006010177285,-0.7767493695488499]     |\n",
      "|[254.0,0.0,1.0,0.0,1.0,333333.3215,2.0,2.0,2.0,0.0]|[0.7194356910787414,-1.0479131934078003,-0.4501837608631865,-1.0062376768714802,-0.4683087717050059,1.6883448732996509,0.5910174773111673,-0.6441862671743399,-0.6804695804757784,-0.7767493695488499]    |\n",
      "|[254.0,0.0,1.0,0.0,1.0,100000.0025,2.0,2.0,2.0,0.0]|[0.7194356910787414,-1.0479131934078003,-0.4501837608631865,-1.0062376768714802,-0.4683087717050059,0.11834929566610558,0.5910174773111673,-0.6441862671743399,-0.6804695804757784,-0.7767493695488499]   |\n",
      "|[254.0,0.0,1.0,0.0,1.0,500000.0013,2.0,2.0,3.0,0.0]|[0.7194356910787414,-1.0479131934078003,-0.4501837608631865,-1.0062376768714802,-0.4683087717050059,2.8097704431509336,0.5910174773111673,-0.6441862671743399,-0.5903006010177285,-0.7767493695488499]    |\n",
      "|[254.0,0.0,1.0,0.0,1.0,250000.0006,2.0,2.0,3.0,0.0]|[0.7194356910787414,-1.0479131934078003,-0.4501837608631865,-1.0062376768714802,-0.4683087717050059,1.1276322162165142,0.5910174773111673,-0.6441862671743399,-0.5903006010177285,-0.7767493695488499]    |\n",
      "+---------------------------------------------------+----------------------------------------------------------------------------------------------------------------------------------------------------------------------------------------------------------+\n",
      "only showing top 20 rows\n",
      "\n"
     ]
    }
   ],
   "source": [
    "test_data.select(\"features\", \"z_scaled_features\").show(truncate=False)"
   ]
  },
  {
   "cell_type": "markdown",
   "id": "f22df8ed",
   "metadata": {},
   "source": [
    "### **(c) Select and train models**"
   ]
  },
  {
   "cell_type": "markdown",
   "id": "44b5f7a9",
   "metadata": {},
   "source": [
    "### Logistic Regression"
   ]
  },
  {
   "cell_type": "code",
   "execution_count": 32,
   "id": "7fe5089b",
   "metadata": {},
   "outputs": [
    {
     "name": "stderr",
     "output_type": "stream",
     "text": [
      "23/08/19 21:55:29 WARN BLAS: Failed to load implementation from: com.github.fommil.netlib.NativeSystemBLAS\n",
      "23/08/19 21:55:29 WARN BLAS: Failed to load implementation from: com.github.fommil.netlib.NativeRefBLAS\n",
      "                                                                                \r"
     ]
    },
    {
     "name": "stdout",
     "output_type": "stream",
     "text": [
      "Train ROC AUC: 0.8839283567958677\n",
      "Test ROC AUC: 0.8839339452948933\n"
     ]
    }
   ],
   "source": [
    "# train logistic regression model\n",
    "lr = LogisticRegression(featuresCol=\"z_scaled_features\", labelCol=\"label\")\n",
    "lr_model = lr.fit(train_data)\n",
    "\n",
    "# evaluate the model on the training data\n",
    "train_results = lr_model.transform(train_data)\n",
    "\n",
    "# evaluate the model on the testing data\n",
    "test_results = lr_model.transform(test_data)\n",
    "\n",
    "# calculate ROC AUC for training and testing data\n",
    "evaluator = BinaryClassificationEvaluator(rawPredictionCol=\"rawPrediction\")\n",
    "train_roc_auc = evaluator.evaluate(train_results)\n",
    "test_roc_auc = evaluator.evaluate(test_results)\n",
    "\n",
    "print(\"Train ROC AUC:\", train_roc_auc)\n",
    "print(\"Test ROC AUC:\", test_roc_auc)"
   ]
  },
  {
   "cell_type": "markdown",
   "id": "348c1503",
   "metadata": {},
   "source": [
    "Fine-tuning"
   ]
  },
  {
   "cell_type": "code",
   "execution_count": 33,
   "id": "377b45e5",
   "metadata": {
    "scrolled": true
   },
   "outputs": [
    {
     "name": "stderr",
     "output_type": "stream",
     "text": [
      "                                                                                \r"
     ]
    },
    {
     "name": "stdout",
     "output_type": "stream",
     "text": [
      "Best Model ROC AUC: 0.8902171665621326\n",
      "Best Regularization Parameter: 0.001\n",
      "Best Threshold: 0.4\n",
      "Best Max Iterations: 200\n"
     ]
    }
   ],
   "source": [
    "lr = LogisticRegression(featuresCol=\"z_scaled_features\", labelCol=\"label\")\n",
    "\n",
    "paramGrid = (ParamGridBuilder()\n",
    "             .addGrid(lr.regParam, [0, 1.0, 0.1, 0.01, 0.001])\n",
    "             .addGrid(lr.threshold, [0.1, 0.2, 0.3, 0.4, 0.5, 0.6, 0.7])\n",
    "             .addGrid(lr.maxIter, [10, 50, 100, 200])\n",
    "             .build())\n",
    "\n",
    "# setup cross-validation for hyperparameter search\n",
    "crossval = CrossValidator(estimator=lr,\n",
    "                          estimatorParamMaps=paramGrid,\n",
    "                          evaluator=BinaryClassificationEvaluator(),\n",
    "                          numFolds=5)\n",
    "\n",
    "# run cross-validation to find the best hyperparameters\n",
    "cv_model = crossval.fit(train_data)\n",
    "\n",
    "# get the best model with the best hyperparameters\n",
    "best_lr_model = cv_model.bestModel\n",
    "\n",
    "# evaluate the best model on the test data\n",
    "test_results = best_lr_model.transform(test_data)\n",
    "\n",
    "# calculate ROC AUC for the best model\n",
    "evaluator = BinaryClassificationEvaluator(rawPredictionCol=\"rawPrediction\")\n",
    "roc_auc = evaluator.evaluate(test_results)\n",
    "print(\"Best Model ROC AUC:\", roc_auc)\n",
    "\n",
    "# Retrieve the best hyperparameters\n",
    "best_reg_param = best_lr_model._java_obj.getRegParam()\n",
    "best_threshold = best_lr_model._java_obj.getThreshold()\n",
    "best_max_iter = best_lr_model._java_obj.getMaxIter()\n",
    "print(\"Best Regularization Parameter:\", best_reg_param)\n",
    "print(\"Best Threshold:\", best_threshold)\n",
    "print(\"Best Max Iterations:\", best_max_iter)"
   ]
  },
  {
   "cell_type": "markdown",
   "id": "62a0aa1a",
   "metadata": {},
   "source": [
    "### Random Forest"
   ]
  },
  {
   "cell_type": "code",
   "execution_count": 34,
   "id": "a930b25f",
   "metadata": {},
   "outputs": [
    {
     "name": "stderr",
     "output_type": "stream",
     "text": [
      "                                                                                \r"
     ]
    },
    {
     "name": "stdout",
     "output_type": "stream",
     "text": [
      "Train ROC AUC: 0.9578013270263114\n",
      "Test ROC AUC: 0.9578013270263114\n"
     ]
    }
   ],
   "source": [
    "rf = RandomForestClassifier(labelCol=\"label\", featuresCol=\"z_scaled_features\")\n",
    "# train the Random Forest model\n",
    "rf_model = rf.fit(train_data)\n",
    "\n",
    "evaluator = BinaryClassificationEvaluator(rawPredictionCol=\"rawPrediction\")\n",
    "\n",
    "# Evaluate the model on the test data\n",
    "train_results = rf_model.transform(train_data)\n",
    "test_results = rf_model.transform(test_data)\n",
    "train_roc_auc = evaluator.evaluate(train_results)\n",
    "test_roc_auc = evaluator.evaluate(test_results)\n",
    "\n",
    "print(\"Train ROC AUC:\", train_roc_auc)\n",
    "print(\"Test ROC AUC:\", test_roc_auc)"
   ]
  },
  {
   "cell_type": "markdown",
   "id": "ea8c3bd7",
   "metadata": {},
   "source": [
    "Fine tuning"
   ]
  },
  {
   "cell_type": "code",
   "execution_count": 35,
   "id": "ab34eda7",
   "metadata": {
    "scrolled": false
   },
   "outputs": [
    {
     "name": "stderr",
     "output_type": "stream",
     "text": [
      "23/08/19 22:17:55 WARN DAGScheduler: Broadcasting large task binary with size 1181.7 KiB\n",
      "23/08/19 22:17:56 WARN DAGScheduler: Broadcasting large task binary with size 1708.5 KiB\n",
      "23/08/19 22:17:57 WARN DAGScheduler: Broadcasting large task binary with size 1044.7 KiB\n",
      "23/08/19 22:18:00 WARN DAGScheduler: Broadcasting large task binary with size 1182.8 KiB\n",
      "23/08/19 22:18:01 WARN DAGScheduler: Broadcasting large task binary with size 1669.6 KiB\n",
      "23/08/19 22:18:05 WARN DAGScheduler: Broadcasting large task binary with size 1141.1 KiB\n",
      "23/08/19 22:18:06 WARN DAGScheduler: Broadcasting large task binary with size 1579.6 KiB\n",
      "23/08/19 22:18:20 WARN DAGScheduler: Broadcasting large task binary with size 1539.7 KiB\n",
      "23/08/19 22:18:22 WARN DAGScheduler: Broadcasting large task binary with size 2.3 MiB\n",
      "23/08/19 22:18:24 WARN DAGScheduler: Broadcasting large task binary with size 3.4 MiB\n",
      "23/08/19 22:18:26 WARN DAGScheduler: Broadcasting large task binary with size 2.0 MiB\n",
      "23/08/19 22:18:31 WARN DAGScheduler: Broadcasting large task binary with size 1503.9 KiB\n",
      "23/08/19 22:18:32 WARN DAGScheduler: Broadcasting large task binary with size 2.2 MiB\n",
      "23/08/19 22:18:34 WARN DAGScheduler: Broadcasting large task binary with size 3.1 MiB\n",
      "23/08/19 22:18:36 WARN DAGScheduler: Broadcasting large task binary with size 1585.1 KiB\n",
      "23/08/19 22:18:41 WARN DAGScheduler: Broadcasting large task binary with size 1481.5 KiB\n",
      "23/08/19 22:18:42 WARN DAGScheduler: Broadcasting large task binary with size 2.1 MiB\n",
      "23/08/19 22:18:44 WARN DAGScheduler: Broadcasting large task binary with size 3.0 MiB\n",
      "23/08/19 22:18:46 WARN DAGScheduler: Broadcasting large task binary with size 1335.3 KiB\n",
      "23/08/19 22:19:06 WARN DAGScheduler: Broadcasting large task binary with size 1401.6 KiB\n",
      "23/08/19 22:19:08 WARN DAGScheduler: Broadcasting large task binary with size 2.2 MiB\n",
      "23/08/19 22:19:10 WARN DAGScheduler: Broadcasting large task binary with size 3.3 MiB\n",
      "23/08/19 22:19:13 WARN DAGScheduler: Broadcasting large task binary with size 4.9 MiB\n",
      "23/08/19 22:19:16 WARN DAGScheduler: Broadcasting large task binary with size 2.9 MiB\n",
      "23/08/19 22:19:22 WARN DAGScheduler: Broadcasting large task binary with size 1432.9 KiB\n",
      "23/08/19 22:19:24 WARN DAGScheduler: Broadcasting large task binary with size 2.2 MiB\n",
      "23/08/19 22:19:27 WARN DAGScheduler: Broadcasting large task binary with size 3.3 MiB\n",
      "23/08/19 22:19:30 WARN DAGScheduler: Broadcasting large task binary with size 4.7 MiB\n",
      "23/08/19 22:19:33 WARN DAGScheduler: Broadcasting large task binary with size 2.3 MiB\n",
      "23/08/19 22:19:39 WARN DAGScheduler: Broadcasting large task binary with size 1406.2 KiB\n",
      "23/08/19 22:19:41 WARN DAGScheduler: Broadcasting large task binary with size 2.1 MiB\n",
      "23/08/19 22:19:44 WARN DAGScheduler: Broadcasting large task binary with size 3.1 MiB\n",
      "23/08/19 22:19:47 WARN DAGScheduler: Broadcasting large task binary with size 4.4 MiB\n",
      "23/08/19 22:19:50 WARN DAGScheduler: Broadcasting large task binary with size 1985.6 KiB\n",
      "23/08/19 22:19:59 WARN DAGScheduler: Broadcasting large task binary with size 1199.7 KiB\n",
      "23/08/19 22:20:00 WARN DAGScheduler: Broadcasting large task binary with size 1745.7 KiB\n",
      "23/08/19 22:20:01 WARN DAGScheduler: Broadcasting large task binary with size 1066.0 KiB\n",
      "23/08/19 22:20:04 WARN DAGScheduler: Broadcasting large task binary with size 1155.9 KiB\n",
      "23/08/19 22:20:05 WARN DAGScheduler: Broadcasting large task binary with size 1657.1 KiB\n",
      "23/08/19 22:20:09 WARN DAGScheduler: Broadcasting large task binary with size 1104.7 KiB\n",
      "23/08/19 22:20:10 WARN DAGScheduler: Broadcasting large task binary with size 1542.8 KiB\n",
      "23/08/19 22:20:25 WARN DAGScheduler: Broadcasting large task binary with size 1529.9 KiB\n",
      "23/08/19 22:20:26 WARN DAGScheduler: Broadcasting large task binary with size 2.3 MiB\n",
      "23/08/19 22:20:28 WARN DAGScheduler: Broadcasting large task binary with size 3.3 MiB\n",
      "23/08/19 22:20:30 WARN DAGScheduler: Broadcasting large task binary with size 2025.7 KiB\n",
      "23/08/19 22:20:36 WARN DAGScheduler: Broadcasting large task binary with size 1516.5 KiB\n",
      "23/08/19 22:20:37 WARN DAGScheduler: Broadcasting large task binary with size 2.2 MiB\n",
      "23/08/19 22:20:39 WARN DAGScheduler: Broadcasting large task binary with size 3.1 MiB\n",
      "23/08/19 22:20:41 WARN DAGScheduler: Broadcasting large task binary with size 1581.1 KiB\n",
      "23/08/19 22:20:46 WARN DAGScheduler: Broadcasting large task binary with size 1480.1 KiB\n",
      "23/08/19 22:20:48 WARN DAGScheduler: Broadcasting large task binary with size 2.1 MiB\n",
      "23/08/19 22:20:49 WARN DAGScheduler: Broadcasting large task binary with size 3.0 MiB\n",
      "23/08/19 22:20:51 WARN DAGScheduler: Broadcasting large task binary with size 1358.4 KiB\n",
      "23/08/19 22:21:11 WARN DAGScheduler: Broadcasting large task binary with size 1438.8 KiB\n",
      "23/08/19 22:21:13 WARN DAGScheduler: Broadcasting large task binary with size 2.2 MiB\n",
      "23/08/19 22:21:16 WARN DAGScheduler: Broadcasting large task binary with size 3.4 MiB\n",
      "23/08/19 22:21:18 WARN DAGScheduler: Broadcasting large task binary with size 5.0 MiB\n",
      "23/08/19 22:21:23 WARN DAGScheduler: Broadcasting large task binary with size 2.9 MiB\n",
      "23/08/19 22:21:29 WARN DAGScheduler: Broadcasting large task binary with size 1433.6 KiB\n",
      "23/08/19 22:21:31 WARN DAGScheduler: Broadcasting large task binary with size 2.2 MiB\n",
      "23/08/19 22:21:33 WARN DAGScheduler: Broadcasting large task binary with size 3.3 MiB\n",
      "23/08/19 22:21:36 WARN DAGScheduler: Broadcasting large task binary with size 4.7 MiB\n",
      "23/08/19 22:21:40 WARN DAGScheduler: Broadcasting large task binary with size 2.3 MiB\n",
      "23/08/19 22:21:46 WARN DAGScheduler: Broadcasting large task binary with size 1398.7 KiB\n",
      "23/08/19 22:21:48 WARN DAGScheduler: Broadcasting large task binary with size 2.1 MiB\n",
      "23/08/19 22:21:50 WARN DAGScheduler: Broadcasting large task binary with size 3.1 MiB\n",
      "23/08/19 22:21:53 WARN DAGScheduler: Broadcasting large task binary with size 4.4 MiB\n",
      "23/08/19 22:21:57 WARN DAGScheduler: Broadcasting large task binary with size 1963.5 KiB\n",
      "23/08/19 22:22:06 WARN DAGScheduler: Broadcasting large task binary with size 1180.9 KiB\n",
      "23/08/19 22:22:07 WARN DAGScheduler: Broadcasting large task binary with size 1703.9 KiB\n",
      "23/08/19 22:22:08 WARN DAGScheduler: Broadcasting large task binary with size 1059.5 KiB\n",
      "23/08/19 22:22:11 WARN DAGScheduler: Broadcasting large task binary with size 1138.5 KiB\n",
      "23/08/19 22:22:12 WARN DAGScheduler: Broadcasting large task binary with size 1606.9 KiB\n",
      "23/08/19 22:22:17 WARN DAGScheduler: Broadcasting large task binary with size 1106.0 KiB\n",
      "23/08/19 22:22:18 WARN DAGScheduler: Broadcasting large task binary with size 1549.3 KiB\n",
      "23/08/19 22:22:33 WARN DAGScheduler: Broadcasting large task binary with size 1550.3 KiB\n",
      "23/08/19 22:22:34 WARN DAGScheduler: Broadcasting large task binary with size 2.3 MiB\n",
      "23/08/19 22:22:36 WARN DAGScheduler: Broadcasting large task binary with size 3.3 MiB\n",
      "23/08/19 22:22:38 WARN DAGScheduler: Broadcasting large task binary with size 2.0 MiB\n",
      "23/08/19 22:22:43 WARN DAGScheduler: Broadcasting large task binary with size 1501.3 KiB\n",
      "23/08/19 22:22:45 WARN DAGScheduler: Broadcasting large task binary with size 2.2 MiB\n",
      "23/08/19 22:22:47 WARN DAGScheduler: Broadcasting large task binary with size 3.1 MiB\n",
      "23/08/19 22:22:49 WARN DAGScheduler: Broadcasting large task binary with size 1598.3 KiB\n",
      "23/08/19 22:22:54 WARN DAGScheduler: Broadcasting large task binary with size 1454.3 KiB\n",
      "23/08/19 22:22:55 WARN DAGScheduler: Broadcasting large task binary with size 2.1 MiB\n",
      "23/08/19 22:22:57 WARN DAGScheduler: Broadcasting large task binary with size 2.9 MiB\n",
      "23/08/19 22:22:59 WARN DAGScheduler: Broadcasting large task binary with size 1340.1 KiB\n",
      "23/08/19 22:23:18 WARN DAGScheduler: Broadcasting large task binary with size 1421.8 KiB\n",
      "23/08/19 22:23:21 WARN DAGScheduler: Broadcasting large task binary with size 2.2 MiB\n",
      "23/08/19 22:23:23 WARN DAGScheduler: Broadcasting large task binary with size 3.3 MiB\n",
      "23/08/19 22:23:26 WARN DAGScheduler: Broadcasting large task binary with size 4.9 MiB\n",
      "23/08/19 22:23:30 WARN DAGScheduler: Broadcasting large task binary with size 3.0 MiB\n",
      "23/08/19 22:23:37 WARN DAGScheduler: Broadcasting large task binary with size 1432.4 KiB\n",
      "23/08/19 22:23:38 WARN DAGScheduler: Broadcasting large task binary with size 2.2 MiB\n",
      "23/08/19 22:23:41 WARN DAGScheduler: Broadcasting large task binary with size 3.3 MiB\n",
      "23/08/19 22:23:44 WARN DAGScheduler: Broadcasting large task binary with size 4.7 MiB\n",
      "23/08/19 22:23:47 WARN DAGScheduler: Broadcasting large task binary with size 2.3 MiB\n",
      "23/08/19 22:23:53 WARN DAGScheduler: Broadcasting large task binary with size 1408.4 KiB\n",
      "23/08/19 22:23:55 WARN DAGScheduler: Broadcasting large task binary with size 2.1 MiB\n",
      "23/08/19 22:23:57 WARN DAGScheduler: Broadcasting large task binary with size 3.1 MiB\n",
      "23/08/19 22:24:00 WARN DAGScheduler: Broadcasting large task binary with size 4.4 MiB\n",
      "23/08/19 22:24:03 WARN DAGScheduler: Broadcasting large task binary with size 2006.7 KiB\n",
      "23/08/19 22:24:12 WARN DAGScheduler: Broadcasting large task binary with size 1434.0 KiB\n",
      "23/08/19 22:24:14 WARN DAGScheduler: Broadcasting large task binary with size 2.3 MiB\n",
      "23/08/19 22:24:17 WARN DAGScheduler: Broadcasting large task binary with size 3.5 MiB\n",
      "23/08/19 22:24:21 WARN DAGScheduler: Broadcasting large task binary with size 5.3 MiB\n",
      "23/08/19 22:24:26 WARN DAGScheduler: Broadcasting large task binary with size 3.1 MiB\n",
      "                                                                                \r"
     ]
    },
    {
     "name": "stdout",
     "output_type": "stream",
     "text": [
      "Best Model ROC AUC: 0.9713663717653063\n",
      "Best Number of Trees: 150\n",
      "Best Max Depth: 10\n",
      "Best Min Instances Per Node: 1\n"
     ]
    }
   ],
   "source": [
    "# Define the Random Forest model\n",
    "rf_model = RandomForestClassifier(labelCol=\"label\", featuresCol=\"z_scaled_features\")\n",
    "\n",
    "# Define the parameter grid for tuning\n",
    "param_grid = (ParamGridBuilder()\n",
    "    .addGrid(rf_model.numTrees, [50, 100, 150])\n",
    "    .addGrid(rf_model.maxDepth, [5, 10])\n",
    "    .addGrid(rf_model.minInstancesPerNode, [1, 5, 10])\n",
    "    .build())\n",
    "\n",
    "# Define the evaluator\n",
    "evaluator = BinaryClassificationEvaluator(labelCol=\"label\")\n",
    "\n",
    "# Create a CrossValidator\n",
    "cross_validator = CrossValidator(estimator=rf_model,\n",
    "                                 estimatorParamMaps=param_grid,\n",
    "                                 evaluator=evaluator,\n",
    "                                 numFolds=3)\n",
    "\n",
    "# Perform cross-validation and choose the best model\n",
    "cross_validator_model = cross_validator.fit(train_data)\n",
    "best_rf_model = cross_validator_model.bestModel\n",
    "\n",
    "# Evaluate the best model on the test data\n",
    "test_results = best_rf_model.transform(test_data)\n",
    "roc_auc = evaluator.evaluate(test_results)\n",
    "\n",
    "print(\"Best Model ROC AUC:\", roc_auc)\n",
    "\n",
    "# Retrieve the best hyperparameters\n",
    "best_num_trees = best_rf_model._java_obj.getNumTrees()\n",
    "best_max_depth = best_rf_model._java_obj.getMaxDepth()\n",
    "best_min_instances_per_node = best_rf_model._java_obj.getMinInstancesPerNode()\n",
    "print(\"Best Number of Trees:\", best_num_trees)\n",
    "print(\"Best Max Depth:\", best_max_depth)\n",
    "print(\"Best Min Instances Per Node:\", best_min_instances_per_node)"
   ]
  },
  {
   "cell_type": "markdown",
   "id": "15a27935",
   "metadata": {},
   "source": [
    "### Decision Tree Classifier"
   ]
  },
  {
   "cell_type": "code",
   "execution_count": 36,
   "id": "45bf358c",
   "metadata": {},
   "outputs": [
    {
     "name": "stdout",
     "output_type": "stream",
     "text": [
      "Train ROC AUC: 0.8955363218155066\n",
      "Test ROC AUC: 0.8955363218155066\n"
     ]
    }
   ],
   "source": [
    "dtc = DecisionTreeClassifier(featuresCol=\"z_scaled_features\", labelCol=\"label\", maxBins=150)\n",
    "dtc = dtc.fit(train_data)\n",
    "\n",
    "df_predictions_train = dtc.transform(train_data)\n",
    "\n",
    "df_predictions_test = dtc.transform(test_data)  \n",
    "\n",
    "evaluator = BinaryClassificationEvaluator(rawPredictionCol=\"rawPrediction\")\n",
    "\n",
    "# Evaluate the model on the test data\n",
    "train_results = dtc.transform(train_data)\n",
    "test_results = dtc.transform(test_data)\n",
    "train_roc_auc = evaluator.evaluate(train_results)\n",
    "test_roc_auc = evaluator.evaluate(test_results)\n",
    "\n",
    "\n",
    "print(\"Train ROC AUC:\", train_roc_auc)\n",
    "print(\"Test ROC AUC:\", test_roc_auc)"
   ]
  },
  {
   "cell_type": "markdown",
   "id": "e3a2cd34",
   "metadata": {},
   "source": [
    "Fine-Tuning"
   ]
  },
  {
   "cell_type": "code",
   "execution_count": 37,
   "id": "b8624bac",
   "metadata": {
    "scrolled": true
   },
   "outputs": [
    {
     "name": "stdout",
     "output_type": "stream",
     "text": [
      "Best Model ROC AUC: 90.27717048049361\n",
      "Best Max Depth: 10\n",
      "Best Max Bins: 400\n"
     ]
    }
   ],
   "source": [
    "train_accuracy = 0\n",
    "best_accuracy = 0\n",
    "best_maxDepth = 0\n",
    "best_maxBins = 0\n",
    "\n",
    "for maxDepth in [5,10]:\n",
    "    for maxBins in [200, 400]:\n",
    "        dtc2 = DecisionTreeClassifier(featuresCol=\"z_scaled_features\", labelCol=\"label\", maxDepth=maxDepth, maxBins=maxBins)\n",
    "        dtc2 = dtc2.fit(train_data)\n",
    "        df_predictions_train  = dtc2.transform(train_data)\n",
    "        df_predictions = dtc2.transform(test_data)\n",
    "        df_accuracy_test = MulticlassClassificationEvaluator(labelCol=\"label\", metricName = \"accuracy\").evaluate(df_predictions)\n",
    "        df_accuracy_train = MulticlassClassificationEvaluator(labelCol=\"label\", metricName = \"accuracy\").evaluate(df_predictions_train)\n",
    "\n",
    "        if df_accuracy_test*100 > best_accuracy:\n",
    "            best_accuracy = df_accuracy_test*100\n",
    "            train_accuracy = df_accuracy_train*100\n",
    "            best_maxDepth = maxDepth\n",
    "            best_maxBins = maxBins\n",
    "            \n",
    "\n",
    "print(f\"Best Model ROC AUC: {best_accuracy}\")\n",
    "print(f\"Best Max Depth: {best_maxDepth}\")\n",
    "print(f\"Best Max Bins: {best_maxBins}\")"
   ]
  },
  {
   "cell_type": "markdown",
   "id": "2409521c",
   "metadata": {},
   "source": [
    "# Comparison of the 3 models"
   ]
  },
  {
   "cell_type": "markdown",
   "id": "36859a2f",
   "metadata": {},
   "source": [
    "Model: Logistic Regression\n",
    "Pre-finetuning accuracy:\n",
    "Post-finetuning accuracy: \n",
    "\n",
    "\n",
    "Model: Random Forest \n",
    "Pre-finetuning accuracy:\n",
    "Post-finetuning accuracy: \n",
    "\n",
    "\n",
    "Model: Decision Tree Classifier\n",
    "Pre-finetuning accuracy:\n",
    "Post-finetuning accuracy: "
   ]
  },
  {
   "cell_type": "markdown",
   "id": "5a05f52b",
   "metadata": {},
   "source": [
    "# comparison between Spark MLlib and Scikit-Learn"
   ]
  },
  {
   "cell_type": "markdown",
   "id": "747e819c",
   "metadata": {},
   "source": [
    "* Spark MLlib scales better with larger datasets as it takes lesser time to process compared to Scikit-Learn. However, if the dataset is small, it would be better to use Scikit-Learn as SPARK is slower for datasets that are smaller in size.\n",
    "\n",
    "* Scikit_Learn is generally more beginner friendly and better suited for new users as it is easier to visualise data due to access to tools like MatPlotLib and Pandas, while also having a a straightforward and user-friendly API.\n",
    "\n",
    "* When dealing with large datasets or when professional and industry level implementation is required, Spark tends to be the better choice due to access to Apache Spark allowing and its big data analysis tools\n",
    "\n",
    "* from our experience, using Spark was relatively faster than using Scikit-Learn for our machine learning, but the visualisation of data was cleaner when we used Scikit-Learn for our first assignment.\n",
    "\n",
    "* All in all, which library to use depends on the nature of dataset as well as other factors such as experience level of the user and whether or not visualisation of the data is important. For new users, it is advisable to play around with Scikit-Learn to break into this field."
   ]
  },
  {
   "cell_type": "code",
   "execution_count": null,
   "id": "241eca76",
   "metadata": {},
   "outputs": [],
   "source": []
  }
 ],
 "metadata": {
  "kernelspec": {
   "display_name": "Python 3 (ipykernel)",
   "language": "python",
   "name": "python3"
  },
  "language_info": {
   "codemirror_mode": {
    "name": "ipython",
    "version": 3
   },
   "file_extension": ".py",
   "mimetype": "text/x-python",
   "name": "python",
   "nbconvert_exporter": "python",
   "pygments_lexer": "ipython3",
   "version": "3.10.9"
  }
 },
 "nbformat": 4,
 "nbformat_minor": 5
}
